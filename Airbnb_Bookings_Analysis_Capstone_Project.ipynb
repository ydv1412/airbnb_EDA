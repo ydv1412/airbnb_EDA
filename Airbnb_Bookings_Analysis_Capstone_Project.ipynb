{
  "cells": [
    {
      "cell_type": "markdown",
      "metadata": {
        "id": "view-in-github",
        "colab_type": "text"
      },
      "source": [
        "<a href=\"https://colab.research.google.com/github/ydv1412/airbnb_EDA/blob/main/Airbnb_Bookings_Analysis_Capstone_Project.ipynb\" target=\"_parent\"><img src=\"https://colab.research.google.com/assets/colab-badge.svg\" alt=\"Open In Colab\"/></a>"
      ]
    },
    {
      "cell_type": "markdown",
      "metadata": {
        "id": "Y06xIdG26kRF"
      },
      "source": [
        "<b> Airbnb Inc. is an American Company that operates an online marketplace for lodging primarily homestays for vacation rentals, and tourism activities.Since 2008, guests and hosts have used Airbnb to expand on traveling possibilities and present a more unique, personalized way of experiencing the world. Here we have airbnb dataset consisting of about 49000 rows and 16 columns. Let's analyse this dataset and see if this data contains any hidden dependency which can benifit Airbnb in scaling, decision making, increasing customers'(guest) and producers'(host) understanding or increasing profit. \n"
      ]
    },
    {
      "cell_type": "code",
      "execution_count": 1,
      "metadata": {
        "id": "dByMsuzT8Tnw"
      },
      "outputs": [],
      "source": [
        "import pandas as pd\n",
        "import matplotlib.pyplot as plt\n",
        "import seaborn as sns\n",
        "import matplotlib"
      ]
    },
    {
      "cell_type": "code",
      "execution_count": 2,
      "metadata": {
        "colab": {
          "base_uri": "https://localhost:8080/"
        },
        "id": "CYdQl1_bBypG",
        "outputId": "946a31b2-795c-4cc4-d86d-3ef433cec6d6"
      },
      "outputs": [
        {
          "output_type": "stream",
          "name": "stdout",
          "text": [
            "Mounted at /content/drive\n"
          ]
        }
      ],
      "source": [
        "from google.colab import drive\n",
        "drive.mount('/content/drive')"
      ]
    },
    {
      "cell_type": "code",
      "execution_count": 3,
      "metadata": {
        "id": "VHCeJRf_BCcv"
      },
      "outputs": [],
      "source": [
        "df = pd.read_csv(\"/content/drive/MyDrive/capstone project /airbnb/Airbnb NYC 2019.csv\",encoding= 'utf-8')  ## reading file"
      ]
    },
    {
      "cell_type": "code",
      "execution_count": 4,
      "metadata": {
        "id": "F1o_fSWKBCcy",
        "colab": {
          "base_uri": "https://localhost:8080/"
        },
        "outputId": "db07ce15-f15d-4792-8fb4-47d5987887a3"
      },
      "outputs": [
        {
          "output_type": "stream",
          "name": "stdout",
          "text": [
            "the shape of dataset is (48895, 16) \n"
          ]
        }
      ],
      "source": [
        "\n",
        "print(\"the shape of dataset is {} \".format(df.shape))"
      ]
    },
    {
      "cell_type": "markdown",
      "source": [
        "This dataset contains 48895 rows and 16 columns.\n",
        "Let's see what columns we have.."
      ],
      "metadata": {
        "id": "v7MkaR3XJgkt"
      }
    },
    {
      "cell_type": "code",
      "source": [
        "columns  = df.columns\n",
        "print(columns)"
      ],
      "metadata": {
        "colab": {
          "base_uri": "https://localhost:8080/"
        },
        "id": "2I_ub5jlKUUR",
        "outputId": "f8036adb-a0d8-44dd-a2dc-6fe957937fde"
      },
      "execution_count": 5,
      "outputs": [
        {
          "output_type": "stream",
          "name": "stdout",
          "text": [
            "Index(['id', 'name', 'host_id', 'host_name', 'neighbourhood_group',\n",
            "       'neighbourhood', 'latitude', 'longitude', 'room_type', 'price',\n",
            "       'minimum_nights', 'number_of_reviews', 'last_review',\n",
            "       'reviews_per_month', 'calculated_host_listings_count',\n",
            "       'availability_365'],\n",
            "      dtype='object')\n"
          ]
        }
      ]
    },
    {
      "cell_type": "markdown",
      "source": [
        "* ***Let's see what type of data these columns contains..***"
      ],
      "metadata": {
        "id": "Vrr-ZyXNKh2K"
      }
    },
    {
      "cell_type": "code",
      "source": [
        "df.info()"
      ],
      "metadata": {
        "colab": {
          "base_uri": "https://localhost:8080/"
        },
        "id": "5VK5Xla5MC_1",
        "outputId": "a684dba7-e096-464b-ed8c-86a6eae72e5a"
      },
      "execution_count": 6,
      "outputs": [
        {
          "output_type": "stream",
          "name": "stdout",
          "text": [
            "<class 'pandas.core.frame.DataFrame'>\n",
            "RangeIndex: 48895 entries, 0 to 48894\n",
            "Data columns (total 16 columns):\n",
            " #   Column                          Non-Null Count  Dtype  \n",
            "---  ------                          --------------  -----  \n",
            " 0   id                              48895 non-null  int64  \n",
            " 1   name                            48879 non-null  object \n",
            " 2   host_id                         48895 non-null  int64  \n",
            " 3   host_name                       48874 non-null  object \n",
            " 4   neighbourhood_group             48895 non-null  object \n",
            " 5   neighbourhood                   48895 non-null  object \n",
            " 6   latitude                        48895 non-null  float64\n",
            " 7   longitude                       48895 non-null  float64\n",
            " 8   room_type                       48895 non-null  object \n",
            " 9   price                           48895 non-null  int64  \n",
            " 10  minimum_nights                  48895 non-null  int64  \n",
            " 11  number_of_reviews               48895 non-null  int64  \n",
            " 12  last_review                     38843 non-null  object \n",
            " 13  reviews_per_month               38843 non-null  float64\n",
            " 14  calculated_host_listings_count  48895 non-null  int64  \n",
            " 15  availability_365                48895 non-null  int64  \n",
            "dtypes: float64(3), int64(7), object(6)\n",
            "memory usage: 6.0+ MB\n"
          ]
        }
      ]
    },
    {
      "cell_type": "markdown",
      "source": [
        "We have one datetime,five string objects and rest contains numerical values.. "
      ],
      "metadata": {
        "id": "Jjo1vS3gMVLf"
      }
    },
    {
      "cell_type": "markdown",
      "source": [
        " ***Let's have a look at dataset***"
      ],
      "metadata": {
        "id": "CxdsDpskNL0K"
      }
    },
    {
      "cell_type": "code",
      "source": [
        "df.head(5)"
      ],
      "metadata": {
        "colab": {
          "base_uri": "https://localhost:8080/",
          "height": 461
        },
        "id": "gwSxU-ImNOXW",
        "outputId": "e4a5b122-c697-4756-b381-66c8e155530a"
      },
      "execution_count": 7,
      "outputs": [
        {
          "output_type": "execute_result",
          "data": {
            "text/html": [
              "\n",
              "  <div id=\"df-d461343a-d05d-4b28-bcd1-6805a5acb68b\">\n",
              "    <div class=\"colab-df-container\">\n",
              "      <div>\n",
              "<style scoped>\n",
              "    .dataframe tbody tr th:only-of-type {\n",
              "        vertical-align: middle;\n",
              "    }\n",
              "\n",
              "    .dataframe tbody tr th {\n",
              "        vertical-align: top;\n",
              "    }\n",
              "\n",
              "    .dataframe thead th {\n",
              "        text-align: right;\n",
              "    }\n",
              "</style>\n",
              "<table border=\"1\" class=\"dataframe\">\n",
              "  <thead>\n",
              "    <tr style=\"text-align: right;\">\n",
              "      <th></th>\n",
              "      <th>id</th>\n",
              "      <th>name</th>\n",
              "      <th>host_id</th>\n",
              "      <th>host_name</th>\n",
              "      <th>neighbourhood_group</th>\n",
              "      <th>neighbourhood</th>\n",
              "      <th>latitude</th>\n",
              "      <th>longitude</th>\n",
              "      <th>room_type</th>\n",
              "      <th>price</th>\n",
              "      <th>minimum_nights</th>\n",
              "      <th>number_of_reviews</th>\n",
              "      <th>last_review</th>\n",
              "      <th>reviews_per_month</th>\n",
              "      <th>calculated_host_listings_count</th>\n",
              "      <th>availability_365</th>\n",
              "    </tr>\n",
              "  </thead>\n",
              "  <tbody>\n",
              "    <tr>\n",
              "      <th>0</th>\n",
              "      <td>2539</td>\n",
              "      <td>Clean &amp; quiet apt home by the park</td>\n",
              "      <td>2787</td>\n",
              "      <td>John</td>\n",
              "      <td>Brooklyn</td>\n",
              "      <td>Kensington</td>\n",
              "      <td>40.64749</td>\n",
              "      <td>-73.97237</td>\n",
              "      <td>Private room</td>\n",
              "      <td>149</td>\n",
              "      <td>1</td>\n",
              "      <td>9</td>\n",
              "      <td>2018-10-19</td>\n",
              "      <td>0.21</td>\n",
              "      <td>6</td>\n",
              "      <td>365</td>\n",
              "    </tr>\n",
              "    <tr>\n",
              "      <th>1</th>\n",
              "      <td>2595</td>\n",
              "      <td>Skylit Midtown Castle</td>\n",
              "      <td>2845</td>\n",
              "      <td>Jennifer</td>\n",
              "      <td>Manhattan</td>\n",
              "      <td>Midtown</td>\n",
              "      <td>40.75362</td>\n",
              "      <td>-73.98377</td>\n",
              "      <td>Entire home/apt</td>\n",
              "      <td>225</td>\n",
              "      <td>1</td>\n",
              "      <td>45</td>\n",
              "      <td>2019-05-21</td>\n",
              "      <td>0.38</td>\n",
              "      <td>2</td>\n",
              "      <td>355</td>\n",
              "    </tr>\n",
              "    <tr>\n",
              "      <th>2</th>\n",
              "      <td>3647</td>\n",
              "      <td>THE VILLAGE OF HARLEM....NEW YORK !</td>\n",
              "      <td>4632</td>\n",
              "      <td>Elisabeth</td>\n",
              "      <td>Manhattan</td>\n",
              "      <td>Harlem</td>\n",
              "      <td>40.80902</td>\n",
              "      <td>-73.94190</td>\n",
              "      <td>Private room</td>\n",
              "      <td>150</td>\n",
              "      <td>3</td>\n",
              "      <td>0</td>\n",
              "      <td>NaN</td>\n",
              "      <td>NaN</td>\n",
              "      <td>1</td>\n",
              "      <td>365</td>\n",
              "    </tr>\n",
              "    <tr>\n",
              "      <th>3</th>\n",
              "      <td>3831</td>\n",
              "      <td>Cozy Entire Floor of Brownstone</td>\n",
              "      <td>4869</td>\n",
              "      <td>LisaRoxanne</td>\n",
              "      <td>Brooklyn</td>\n",
              "      <td>Clinton Hill</td>\n",
              "      <td>40.68514</td>\n",
              "      <td>-73.95976</td>\n",
              "      <td>Entire home/apt</td>\n",
              "      <td>89</td>\n",
              "      <td>1</td>\n",
              "      <td>270</td>\n",
              "      <td>2019-07-05</td>\n",
              "      <td>4.64</td>\n",
              "      <td>1</td>\n",
              "      <td>194</td>\n",
              "    </tr>\n",
              "    <tr>\n",
              "      <th>4</th>\n",
              "      <td>5022</td>\n",
              "      <td>Entire Apt: Spacious Studio/Loft by central park</td>\n",
              "      <td>7192</td>\n",
              "      <td>Laura</td>\n",
              "      <td>Manhattan</td>\n",
              "      <td>East Harlem</td>\n",
              "      <td>40.79851</td>\n",
              "      <td>-73.94399</td>\n",
              "      <td>Entire home/apt</td>\n",
              "      <td>80</td>\n",
              "      <td>10</td>\n",
              "      <td>9</td>\n",
              "      <td>2018-11-19</td>\n",
              "      <td>0.10</td>\n",
              "      <td>1</td>\n",
              "      <td>0</td>\n",
              "    </tr>\n",
              "  </tbody>\n",
              "</table>\n",
              "</div>\n",
              "      <button class=\"colab-df-convert\" onclick=\"convertToInteractive('df-d461343a-d05d-4b28-bcd1-6805a5acb68b')\"\n",
              "              title=\"Convert this dataframe to an interactive table.\"\n",
              "              style=\"display:none;\">\n",
              "        \n",
              "  <svg xmlns=\"http://www.w3.org/2000/svg\" height=\"24px\"viewBox=\"0 0 24 24\"\n",
              "       width=\"24px\">\n",
              "    <path d=\"M0 0h24v24H0V0z\" fill=\"none\"/>\n",
              "    <path d=\"M18.56 5.44l.94 2.06.94-2.06 2.06-.94-2.06-.94-.94-2.06-.94 2.06-2.06.94zm-11 1L8.5 8.5l.94-2.06 2.06-.94-2.06-.94L8.5 2.5l-.94 2.06-2.06.94zm10 10l.94 2.06.94-2.06 2.06-.94-2.06-.94-.94-2.06-.94 2.06-2.06.94z\"/><path d=\"M17.41 7.96l-1.37-1.37c-.4-.4-.92-.59-1.43-.59-.52 0-1.04.2-1.43.59L10.3 9.45l-7.72 7.72c-.78.78-.78 2.05 0 2.83L4 21.41c.39.39.9.59 1.41.59.51 0 1.02-.2 1.41-.59l7.78-7.78 2.81-2.81c.8-.78.8-2.07 0-2.86zM5.41 20L4 18.59l7.72-7.72 1.47 1.35L5.41 20z\"/>\n",
              "  </svg>\n",
              "      </button>\n",
              "      \n",
              "  <style>\n",
              "    .colab-df-container {\n",
              "      display:flex;\n",
              "      flex-wrap:wrap;\n",
              "      gap: 12px;\n",
              "    }\n",
              "\n",
              "    .colab-df-convert {\n",
              "      background-color: #E8F0FE;\n",
              "      border: none;\n",
              "      border-radius: 50%;\n",
              "      cursor: pointer;\n",
              "      display: none;\n",
              "      fill: #1967D2;\n",
              "      height: 32px;\n",
              "      padding: 0 0 0 0;\n",
              "      width: 32px;\n",
              "    }\n",
              "\n",
              "    .colab-df-convert:hover {\n",
              "      background-color: #E2EBFA;\n",
              "      box-shadow: 0px 1px 2px rgba(60, 64, 67, 0.3), 0px 1px 3px 1px rgba(60, 64, 67, 0.15);\n",
              "      fill: #174EA6;\n",
              "    }\n",
              "\n",
              "    [theme=dark] .colab-df-convert {\n",
              "      background-color: #3B4455;\n",
              "      fill: #D2E3FC;\n",
              "    }\n",
              "\n",
              "    [theme=dark] .colab-df-convert:hover {\n",
              "      background-color: #434B5C;\n",
              "      box-shadow: 0px 1px 3px 1px rgba(0, 0, 0, 0.15);\n",
              "      filter: drop-shadow(0px 1px 2px rgba(0, 0, 0, 0.3));\n",
              "      fill: #FFFFFF;\n",
              "    }\n",
              "  </style>\n",
              "\n",
              "      <script>\n",
              "        const buttonEl =\n",
              "          document.querySelector('#df-d461343a-d05d-4b28-bcd1-6805a5acb68b button.colab-df-convert');\n",
              "        buttonEl.style.display =\n",
              "          google.colab.kernel.accessAllowed ? 'block' : 'none';\n",
              "\n",
              "        async function convertToInteractive(key) {\n",
              "          const element = document.querySelector('#df-d461343a-d05d-4b28-bcd1-6805a5acb68b');\n",
              "          const dataTable =\n",
              "            await google.colab.kernel.invokeFunction('convertToInteractive',\n",
              "                                                     [key], {});\n",
              "          if (!dataTable) return;\n",
              "\n",
              "          const docLinkHtml = 'Like what you see? Visit the ' +\n",
              "            '<a target=\"_blank\" href=https://colab.research.google.com/notebooks/data_table.ipynb>data table notebook</a>'\n",
              "            + ' to learn more about interactive tables.';\n",
              "          element.innerHTML = '';\n",
              "          dataTable['output_type'] = 'display_data';\n",
              "          await google.colab.output.renderOutput(dataTable, element);\n",
              "          const docLink = document.createElement('div');\n",
              "          docLink.innerHTML = docLinkHtml;\n",
              "          element.appendChild(docLink);\n",
              "        }\n",
              "      </script>\n",
              "    </div>\n",
              "  </div>\n",
              "  "
            ],
            "text/plain": [
              "     id  ... availability_365\n",
              "0  2539  ...              365\n",
              "1  2595  ...              355\n",
              "2  3647  ...              365\n",
              "3  3831  ...              194\n",
              "4  5022  ...                0\n",
              "\n",
              "[5 rows x 16 columns]"
            ]
          },
          "metadata": {},
          "execution_count": 7
        }
      ]
    },
    {
      "cell_type": "markdown",
      "source": [
        "* ***Let's see how many unique neighbourhood_groups do we have..***"
      ],
      "metadata": {
        "id": "xW0vumIMOBUf"
      }
    },
    {
      "cell_type": "code",
      "execution_count": 8,
      "metadata": {
        "id": "1AtM6NTgBp4W",
        "colab": {
          "base_uri": "https://localhost:8080/"
        },
        "outputId": "defa411c-0b02-4f47-8865-a7ef4494f887"
      },
      "outputs": [
        {
          "output_type": "stream",
          "name": "stdout",
          "text": [
            "We have 5 unique destinations\n",
            "['Brooklyn' 'Manhattan' 'Queens' 'Staten Island' 'Bronx']\n"
          ]
        }
      ],
      "source": [
        "no_of_unique_destinations = len(df[\"neighbourhood_group\"].unique())                ## no. of unique destination\n",
        "unique_destinations = df[\"neighbourhood_group\"].unique()                           ## unique destinations\n",
        "print(\"We have {} unique destinations\".format(no_of_unique_destinations))\n",
        "print(unique_destinations)"
      ]
    },
    {
      "cell_type": "markdown",
      "source": [
        "* ***Let's see how many visits per neighbourhood_group do we have..***"
      ],
      "metadata": {
        "id": "FjFH9x2LP88j"
      }
    },
    {
      "cell_type": "code",
      "source": [
        "df_2 = df.groupby(by = \"neighbourhood_group\")['neighbourhood'].count().reset_index(name = \"count\").sort_values(by = \"count\" , ascending = False) ## grouping by neighbourhood_group\n",
        "\n",
        "\n",
        "plt.figure(figsize = (7,6))               ## setting figure size\n",
        "\n",
        "sns.barplot(x = df_2[\"neighbourhood_group\"] , y = df_2[\"count\"])     ## barpot\n",
        "\n",
        "plt.xlabel(\"Destinations\")\n",
        "plt.ylabel(\"No of Visits\")\n",
        "plt.title(\"VISITS PER NEIGHBOURHOOD_GROUP\")\n",
        "plt.show()"
      ],
      "metadata": {
        "colab": {
          "base_uri": "https://localhost:8080/",
          "height": 403
        },
        "id": "svo7AQCdN_to",
        "outputId": "2eca3f28-dda2-4054-fc60-1626071a4e85"
      },
      "execution_count": 9,
      "outputs": [
        {
          "output_type": "display_data",
          "data": {
            "image/png": "[encoded data removed]",
            "text/plain": [
              "<Figure size 504x432 with 1 Axes>"
            ]
          },
          "metadata": {
            "needs_background": "light"
          }
        }
      ]
    },
    {
      "cell_type": "markdown",
      "source": [
        "Manhattan is the most visited neighbourhood_group followed by Brooklyn.Queens Destination is the third most visited neighbourhood_group."
      ],
      "metadata": {
        "id": "LD-WvTJ0w1hN"
      }
    },
    {
      "cell_type": "markdown",
      "source": [
        "***Let's see number of unique neighbourhood..***"
      ],
      "metadata": {
        "id": "vAuCwh3EAoWY"
      }
    },
    {
      "cell_type": "code",
      "source": [
        "print(\"We have {} unique neighbourhood\".format(len(df['neighbourhood'].unique())))"
      ],
      "metadata": {
        "colab": {
          "base_uri": "https://localhost:8080/"
        },
        "id": "RbDn7VwAAwRW",
        "outputId": "064c7586-4dc9-492b-b67a-01dcd15384e0"
      },
      "execution_count": 10,
      "outputs": [
        {
          "output_type": "stream",
          "name": "stdout",
          "text": [
            "We have 221 unique neighbourhood\n"
          ]
        }
      ]
    },
    {
      "cell_type": "markdown",
      "source": [
        "* ***Let's see visits per neighbourhood..***\n"
      ],
      "metadata": {
        "id": "uWbdO4p4OtLs"
      }
    },
    {
      "cell_type": "code",
      "source": [
        "top_30_neighbours_guest_wise = df.groupby(by = \"neighbourhood\").size().reset_index(name = \"count\").sort_values(by = \"count\" , ascending = False).iloc[:30]  ### getting top 30 busiest neighbourhood\n",
        "\n",
        "plt.figure(figsize = (7,6))               ## setting figure size\n",
        "\n",
        "sns.barplot(x = top_30_neighbours_guest_wise[\"neighbourhood\"] , y = top_30_neighbours_guest_wise[\"count\"])     ## barpot\n",
        "\n",
        "plt.xlabel(\"NEIGHBOURHOOD\")\n",
        "plt.ylabel(\"No of Visits\")\n",
        "plt.title(\"VISITS PER NEIGHBOURHOOD\")\n",
        "plt.xticks(rotation = 90) \n",
        "plt.show()"
      ],
      "metadata": {
        "colab": {
          "base_uri": "https://localhost:8080/",
          "height": 523
        },
        "id": "UnI_AK3COhZ9",
        "outputId": "3a9e07bf-376b-4ae1-a57d-ecd556a27014"
      },
      "execution_count": 11,
      "outputs": [
        {
          "output_type": "display_data",
          "data": {
            "image/png": "[encoded data removed]",
            "text/plain": [
              "<Figure size 504x432 with 1 Axes>"
            ]
          },
          "metadata": {
            "needs_background": "light"
          }
        }
      ]
    },
    {
      "cell_type": "markdown",
      "source": [
        "* ***Let's see top 10 and bottom 10 neighbourhood with respect to the number of hosts they have side by side..***"
      ],
      "metadata": {
        "id": "GAlq14JhWIl3"
      }
    },
    {
      "cell_type": "code",
      "source": [
        "df_3_max = df.groupby(by = \"neighbourhood\" , as_index = False)[\"host_id\"].count().sort_values(by = \"host_id\" , ascending= False).iloc[:10]  ## top 10 neighbourhoods\n",
        "df_3_min = df.groupby(by = \"neighbourhood\" , as_index = False)[\"host_id\"].count().sort_values(by = \"host_id\" , ascending= True).iloc[:10]   ## bottom 10 neighbourhoods\n",
        "\n",
        "plt.figure(figsize = (12,8))\n",
        "plt.subplot(221)                                                              ## first subplot\n",
        "sns.barplot(x = df_3_max[\"neighbourhood\"] , y = df_3_max[\"host_id\"])\n",
        "plt.xticks(rotation = 90)\n",
        "plt.xlabel(\"Neighbourhoods\")\n",
        "plt.ylabel(\"No of Hosts\")\n",
        "plt.title(\"TOP NEIGHBOURHOOD\")\n",
        "\n",
        "\n",
        "plt.subplot(222)                                                             ## second subplot\n",
        "sns.barplot(x = df_3_min[\"neighbourhood\"] , y = df_3_min[\"host_id\"])\n",
        "plt.xlabel(\"Neighbourhoods\")\n",
        "plt.ylabel(\"No of Hosts\")\n",
        "plt.title(\"BOTTOM NEIGHBOURHOOD\")\n",
        "plt.xticks(rotation = 90)                                                    ## rotating xticks by 90 degrees\n",
        "\n",
        "\n",
        "plt.show()"
      ],
      "metadata": {
        "colab": {
          "base_uri": "https://localhost:8080/",
          "height": 365
        },
        "id": "ieHn6eJlP7gL",
        "outputId": "19730d75-3c6f-4aef-fe3b-557cf9cf4f63"
      },
      "execution_count": 12,
      "outputs": [
        {
          "output_type": "display_data",
          "data": {
            "image/png": "[encoded data removed]",
            "text/plain": [
              "<Figure size 864x576 with 2 Axes>"
            ]
          },
          "metadata": {
            "needs_background": "light"
          }
        }
      ]
    },
    {
      "cell_type": "markdown",
      "source": [
        "* ***Let's see which 5 hosts who have attended max number of guests..***"
      ],
      "metadata": {
        "id": "fx39gXA01ajD"
      }
    },
    {
      "cell_type": "code",
      "source": [
        "top_5_hosts = df.groupby([\"host_id\"]).size().reset_index(name = 'count').sort_values(by = \"count\" , ascending = False).iloc[:5]   ## creating a data frame\n",
        "print(top_5_hosts)"
      ],
      "metadata": {
        "colab": {
          "base_uri": "https://localhost:8080/"
        },
        "id": "OJ7QlKAV1t7Q",
        "outputId": "e9c8597a-6f55-4b8d-86f2-c5982a38dc11"
      },
      "execution_count": 13,
      "outputs": [
        {
          "output_type": "stream",
          "name": "stdout",
          "text": [
            "         host_id  count\n",
            "34646  219517861    327\n",
            "29407  107434423    232\n",
            "19574   30283594    121\n",
            "31079  137358866    103\n",
            "14436   16098958     96\n"
          ]
        }
      ]
    },
    {
      "cell_type": "markdown",
      "source": [
        "* ***Now let's see to which neighbourhoods these host id belongs to along with the average number of reviews they get from users, room_type and price..***"
      ],
      "metadata": {
        "id": "U-rE5aUw4IhF"
      }
    },
    {
      "cell_type": "code",
      "source": [
        "top_5_hosts[\"neighbourhood\"] = top_5_hosts[\"host_id\"].apply(lambda x: df[df[\"host_id\"] == x][\"neighbourhood\"].unique())   ## taking corresponding neighbourhood values from df dataframe\n",
        "top_5_hosts[\"avg_no_of_reviews\"] = top_5_hosts[\"host_id\"].apply(lambda x: df[df[\"host_id\"] == x][\"number_of_reviews\"].mean())  ## taking corresponding mean of reviews from df dataframe\n",
        "top_5_hosts[\"neighbourhood_group\"] = top_5_hosts[\"host_id\"].apply(lambda x: df[df[\"host_id\"] == x][\"neighbourhood_group\"].unique())   ## taking corresponding neighbourhood_group values from df dataframe\n",
        "top_5_hosts[\"room_type\"] = top_5_hosts[\"host_id\"].apply(lambda x: df[df[\"host_id\"] == x][\"room_type\"].unique())        ## taking corresponding room_type values from df dataframe\n",
        "top_5_hosts[\"price\"] = top_5_hosts[\"host_id\"].apply(lambda x: df[df[\"host_id\"] == x][\"price\"].mean())                  ## taking corresponding price mean values from df dataframe"
      ],
      "metadata": {
        "id": "ghwMAqD24Hxp"
      },
      "execution_count": 14,
      "outputs": []
    },
    {
      "cell_type": "code",
      "source": [
        "top_5_hosts"
      ],
      "metadata": {
        "colab": {
          "base_uri": "https://localhost:8080/",
          "height": 206
        },
        "id": "HaHEigLK8yKO",
        "outputId": "4aa7832e-00a8-485f-d714-e04fb0f16c35"
      },
      "execution_count": 15,
      "outputs": [
        {
          "output_type": "execute_result",
          "data": {
            "text/html": [
              "\n",
              "  <div id=\"df-54833eba-6ada-403d-a3f6-bf9cc90f3539\">\n",
              "    <div class=\"colab-df-container\">\n",
              "      <div>\n",
              "<style scoped>\n",
              "    .dataframe tbody tr th:only-of-type {\n",
              "        vertical-align: middle;\n",
              "    }\n",
              "\n",
              "    .dataframe tbody tr th {\n",
              "        vertical-align: top;\n",
              "    }\n",
              "\n",
              "    .dataframe thead th {\n",
              "        text-align: right;\n",
              "    }\n",
              "</style>\n",
              "<table border=\"1\" class=\"dataframe\">\n",
              "  <thead>\n",
              "    <tr style=\"text-align: right;\">\n",
              "      <th></th>\n",
              "      <th>host_id</th>\n",
              "      <th>count</th>\n",
              "      <th>neighbourhood</th>\n",
              "      <th>avg_no_of_reviews</th>\n",
              "      <th>neighbourhood_group</th>\n",
              "      <th>room_type</th>\n",
              "      <th>price</th>\n",
              "    </tr>\n",
              "  </thead>\n",
              "  <tbody>\n",
              "    <tr>\n",
              "      <th>34646</th>\n",
              "      <td>219517861</td>\n",
              "      <td>327</td>\n",
              "      <td>[Financial District, Murray Hill, Hell's Kitch...</td>\n",
              "      <td>3.917431</td>\n",
              "      <td>[Manhattan]</td>\n",
              "      <td>[Entire home/apt, Private room]</td>\n",
              "      <td>253.195719</td>\n",
              "    </tr>\n",
              "    <tr>\n",
              "      <th>29407</th>\n",
              "      <td>107434423</td>\n",
              "      <td>232</td>\n",
              "      <td>[Kips Bay, Financial District, Murray Hill, Tr...</td>\n",
              "      <td>0.125000</td>\n",
              "      <td>[Manhattan, Brooklyn]</td>\n",
              "      <td>[Entire home/apt]</td>\n",
              "      <td>303.150862</td>\n",
              "    </tr>\n",
              "    <tr>\n",
              "      <th>19574</th>\n",
              "      <td>30283594</td>\n",
              "      <td>121</td>\n",
              "      <td>[Financial District, Theater District, Midtown...</td>\n",
              "      <td>0.537190</td>\n",
              "      <td>[Manhattan]</td>\n",
              "      <td>[Entire home/apt]</td>\n",
              "      <td>277.528926</td>\n",
              "    </tr>\n",
              "    <tr>\n",
              "      <th>31079</th>\n",
              "      <td>137358866</td>\n",
              "      <td>103</td>\n",
              "      <td>[Harlem, East Harlem, Sunnyside, Jackson Heigh...</td>\n",
              "      <td>0.844660</td>\n",
              "      <td>[Manhattan, Queens, Brooklyn]</td>\n",
              "      <td>[Private room, Entire home/apt]</td>\n",
              "      <td>43.825243</td>\n",
              "    </tr>\n",
              "    <tr>\n",
              "      <th>14436</th>\n",
              "      <td>16098958</td>\n",
              "      <td>96</td>\n",
              "      <td>[Upper East Side, Gramercy, Upper West Side, H...</td>\n",
              "      <td>1.437500</td>\n",
              "      <td>[Manhattan]</td>\n",
              "      <td>[Entire home/apt, Private room]</td>\n",
              "      <td>208.958333</td>\n",
              "    </tr>\n",
              "  </tbody>\n",
              "</table>\n",
              "</div>\n",
              "      <button class=\"colab-df-convert\" onclick=\"convertToInteractive('df-54833eba-6ada-403d-a3f6-bf9cc90f3539')\"\n",
              "              title=\"Convert this dataframe to an interactive table.\"\n",
              "              style=\"display:none;\">\n",
              "        \n",
              "  <svg xmlns=\"http://www.w3.org/2000/svg\" height=\"24px\"viewBox=\"0 0 24 24\"\n",
              "       width=\"24px\">\n",
              "    <path d=\"M0 0h24v24H0V0z\" fill=\"none\"/>\n",
              "    <path d=\"M18.56 5.44l.94 2.06.94-2.06 2.06-.94-2.06-.94-.94-2.06-.94 2.06-2.06.94zm-11 1L8.5 8.5l.94-2.06 2.06-.94-2.06-.94L8.5 2.5l-.94 2.06-2.06.94zm10 10l.94 2.06.94-2.06 2.06-.94-2.06-.94-.94-2.06-.94 2.06-2.06.94z\"/><path d=\"M17.41 7.96l-1.37-1.37c-.4-.4-.92-.59-1.43-.59-.52 0-1.04.2-1.43.59L10.3 9.45l-7.72 7.72c-.78.78-.78 2.05 0 2.83L4 21.41c.39.39.9.59 1.41.59.51 0 1.02-.2 1.41-.59l7.78-7.78 2.81-2.81c.8-.78.8-2.07 0-2.86zM5.41 20L4 18.59l7.72-7.72 1.47 1.35L5.41 20z\"/>\n",
              "  </svg>\n",
              "      </button>\n",
              "      \n",
              "  <style>\n",
              "    .colab-df-container {\n",
              "      display:flex;\n",
              "      flex-wrap:wrap;\n",
              "      gap: 12px;\n",
              "    }\n",
              "\n",
              "    .colab-df-convert {\n",
              "      background-color: #E8F0FE;\n",
              "      border: none;\n",
              "      border-radius: 50%;\n",
              "      cursor: pointer;\n",
              "      display: none;\n",
              "      fill: #1967D2;\n",
              "      height: 32px;\n",
              "      padding: 0 0 0 0;\n",
              "      width: 32px;\n",
              "    }\n",
              "\n",
              "    .colab-df-convert:hover {\n",
              "      background-color: #E2EBFA;\n",
              "      box-shadow: 0px 1px 2px rgba(60, 64, 67, 0.3), 0px 1px 3px 1px rgba(60, 64, 67, 0.15);\n",
              "      fill: #174EA6;\n",
              "    }\n",
              "\n",
              "    [theme=dark] .colab-df-convert {\n",
              "      background-color: #3B4455;\n",
              "      fill: #D2E3FC;\n",
              "    }\n",
              "\n",
              "    [theme=dark] .colab-df-convert:hover {\n",
              "      background-color: #434B5C;\n",
              "      box-shadow: 0px 1px 3px 1px rgba(0, 0, 0, 0.15);\n",
              "      filter: drop-shadow(0px 1px 2px rgba(0, 0, 0, 0.3));\n",
              "      fill: #FFFFFF;\n",
              "    }\n",
              "  </style>\n",
              "\n",
              "      <script>\n",
              "        const buttonEl =\n",
              "          document.querySelector('#df-54833eba-6ada-403d-a3f6-bf9cc90f3539 button.colab-df-convert');\n",
              "        buttonEl.style.display =\n",
              "          google.colab.kernel.accessAllowed ? 'block' : 'none';\n",
              "\n",
              "        async function convertToInteractive(key) {\n",
              "          const element = document.querySelector('#df-54833eba-6ada-403d-a3f6-bf9cc90f3539');\n",
              "          const dataTable =\n",
              "            await google.colab.kernel.invokeFunction('convertToInteractive',\n",
              "                                                     [key], {});\n",
              "          if (!dataTable) return;\n",
              "\n",
              "          const docLinkHtml = 'Like what you see? Visit the ' +\n",
              "            '<a target=\"_blank\" href=https://colab.research.google.com/notebooks/data_table.ipynb>data table notebook</a>'\n",
              "            + ' to learn more about interactive tables.';\n",
              "          element.innerHTML = '';\n",
              "          dataTable['output_type'] = 'display_data';\n",
              "          await google.colab.output.renderOutput(dataTable, element);\n",
              "          const docLink = document.createElement('div');\n",
              "          docLink.innerHTML = docLinkHtml;\n",
              "          element.appendChild(docLink);\n",
              "        }\n",
              "      </script>\n",
              "    </div>\n",
              "  </div>\n",
              "  "
            ],
            "text/plain": [
              "         host_id  count  ...                        room_type       price\n",
              "34646  219517861    327  ...  [Entire home/apt, Private room]  253.195719\n",
              "29407  107434423    232  ...                [Entire home/apt]  303.150862\n",
              "19574   30283594    121  ...                [Entire home/apt]  277.528926\n",
              "31079  137358866    103  ...  [Private room, Entire home/apt]   43.825243\n",
              "14436   16098958     96  ...  [Entire home/apt, Private room]  208.958333\n",
              "\n",
              "[5 rows x 7 columns]"
            ]
          },
          "metadata": {},
          "execution_count": 15
        }
      ]
    },
    {
      "cell_type": "markdown",
      "source": [
        "These top 5 hosts belong to Manhattan , Queens ,Brooklyn neighbourhood_group(mostly Manhattan) ."
      ],
      "metadata": {
        "id": "Yz1ahEF24dMp"
      }
    },
    {
      "cell_type": "markdown",
      "source": [
        "***Let's find intersection between neighbourhood_groups of these busiest hosts and the most busest top_30_neighbourhoods that we calculated avobe to see if there is any data link***"
      ],
      "metadata": {
        "id": "CxcGd84V7y4J"
      }
    },
    {
      "cell_type": "code",
      "source": [
        "### Finding intection length between these neighbourhood_groups and top neighbourhood_groups from top_30_neighbourhood dataset\n",
        "\n",
        "all_dests = set(top_5_hosts[\"neighbourhood\"].explode())    #### finding the neighbourhoods of these busiest hosts\n",
        "length_1 = len(set(top_30_neighbours_guest_wise[\"neighbourhood\"]).intersection(all_dests))\n",
        "print(\"intersection length is {}\".format(length_1))     "
      ],
      "metadata": {
        "colab": {
          "base_uri": "https://localhost:8080/"
        },
        "id": "DcB8p5GLQuOc",
        "outputId": "e0af320d-3592-4f8a-8b2a-0bfafd7dc3be"
      },
      "execution_count": 16,
      "outputs": [
        {
          "output_type": "stream",
          "name": "stdout",
          "text": [
            "intersection length is 17\n"
          ]
        }
      ]
    },
    {
      "cell_type": "markdown",
      "source": [
        "\n",
        "\n",
        "> As we can see that 17 out of 30 neighbourhood_groups belong to Manhattan , Queens ,Brooklyn neighbouhood.These hosts are busiest because they are mostly in or around Manhattan and Manhattan has maximum number of guests as seen above\n",
        ">.Also these hosts are busiest because most of them are situated in busiest neighbourhoods.\n",
        "\n",
        "\n",
        " "
      ],
      "metadata": {
        "id": "7pteSO8bNz6Q"
      }
    },
    {
      "cell_type": "markdown",
      "source": [
        "* ***Now let's see what different room-types do hosts have***"
      ],
      "metadata": {
        "id": "sjcycwfzm1R7"
      }
    },
    {
      "cell_type": "code",
      "source": [
        "df_4 = df.groupby(by = \"room_type\" ,as_index = False)[\"id\"].count()\n",
        "\n",
        "plt.figure(figsize = (6,6))\n",
        "colors = sns.color_palette('bright')[0:5]   ## setting colour list\n",
        "plt.pie(df_4[\"id\"], labels = df_4[\"room_type\"], colors = colors, autopct='%.0f%%' )             #### plotting pie\n",
        "plt.show()   "
      ],
      "metadata": {
        "colab": {
          "base_uri": "https://localhost:8080/",
          "height": 357
        },
        "id": "eG8WttSGXi93",
        "outputId": "1f0e6949-9513-4a9e-c0fa-5361ce4082b9"
      },
      "execution_count": 17,
      "outputs": [
        {
          "output_type": "display_data",
          "data": {
            "image/png": "[encoded data removed]",
            "text/plain": [
              "<Figure size 432x432 with 1 Axes>"
            ]
          },
          "metadata": {}
        }
      ]
    },
    {
      "cell_type": "markdown",
      "source": [
        "* ***Now let's analyse price column***"
      ],
      "metadata": {
        "id": "Ul3t34ECDehH"
      }
    },
    {
      "cell_type": "code",
      "source": [
        "df[\"price\"].describe()      ### seeing min ,max and avg pricing throughout dataset"
      ],
      "metadata": {
        "colab": {
          "base_uri": "https://localhost:8080/"
        },
        "id": "zv30j7QTrAZI",
        "outputId": "7082f010-6253-4989-e21c-d2ab0249c412"
      },
      "execution_count": 18,
      "outputs": [
        {
          "output_type": "execute_result",
          "data": {
            "text/plain": [
              "count    48895.000000\n",
              "mean       152.720687\n",
              "std        240.154170\n",
              "min          0.000000\n",
              "25%         69.000000\n",
              "50%        106.000000\n",
              "75%        175.000000\n",
              "max      10000.000000\n",
              "Name: price, dtype: float64"
            ]
          },
          "metadata": {},
          "execution_count": 18
        }
      ]
    },
    {
      "cell_type": "markdown",
      "source": [
        "We have mean_price,min_price and max_price 152, 0, 10000 respectively.We should remove rows which are having 0 price beause it must be some data error."
      ],
      "metadata": {
        "id": "AXHa1jox9nLm"
      }
    },
    {
      "cell_type": "markdown",
      "source": [
        "***Let's see how many rows having 0 pricing***"
      ],
      "metadata": {
        "id": "kwMLiZj6-0m1"
      }
    },
    {
      "cell_type": "code",
      "source": [
        "zero_pricing = df[df['price']==0].index        ## indexes where price is zero\n",
        "print(\"dataset have {} rows where price is zero\".format(len(zero_pricing)))"
      ],
      "metadata": {
        "colab": {
          "base_uri": "https://localhost:8080/"
        },
        "id": "nF3CE4yCEaxh",
        "outputId": "05fe862d-8d5e-4d30-d62e-9bf84bc5438d"
      },
      "execution_count": 19,
      "outputs": [
        {
          "output_type": "stream",
          "name": "stdout",
          "text": [
            "dataset have 11 rows where price is zero\n"
          ]
        }
      ]
    },
    {
      "cell_type": "markdown",
      "source": [
        "Let's have a look at these rows"
      ],
      "metadata": {
        "id": "R6C68BLCIq1j"
      }
    },
    {
      "cell_type": "code",
      "source": [
        "df[df['price']==0]"
      ],
      "metadata": {
        "colab": {
          "base_uri": "https://localhost:8080/",
          "height": 1000
        },
        "id": "YmayySYqJ_v9",
        "outputId": "1b61443c-2c45-4d37-9dce-74cde4500c37"
      },
      "execution_count": 20,
      "outputs": [
        {
          "output_type": "execute_result",
          "data": {
            "text/html": [
              "\n",
              "  <div id=\"df-d24c8910-4658-4a4b-a82d-114da60125f0\">\n",
              "    <div class=\"colab-df-container\">\n",
              "      <div>\n",
              "<style scoped>\n",
              "    .dataframe tbody tr th:only-of-type {\n",
              "        vertical-align: middle;\n",
              "    }\n",
              "\n",
              "    .dataframe tbody tr th {\n",
              "        vertical-align: top;\n",
              "    }\n",
              "\n",
              "    .dataframe thead th {\n",
              "        text-align: right;\n",
              "    }\n",
              "</style>\n",
              "<table border=\"1\" class=\"dataframe\">\n",
              "  <thead>\n",
              "    <tr style=\"text-align: right;\">\n",
              "      <th></th>\n",
              "      <th>id</th>\n",
              "      <th>name</th>\n",
              "      <th>host_id</th>\n",
              "      <th>host_name</th>\n",
              "      <th>neighbourhood_group</th>\n",
              "      <th>neighbourhood</th>\n",
              "      <th>latitude</th>\n",
              "      <th>longitude</th>\n",
              "      <th>room_type</th>\n",
              "      <th>price</th>\n",
              "      <th>minimum_nights</th>\n",
              "      <th>number_of_reviews</th>\n",
              "      <th>last_review</th>\n",
              "      <th>reviews_per_month</th>\n",
              "      <th>calculated_host_listings_count</th>\n",
              "      <th>availability_365</th>\n",
              "    </tr>\n",
              "  </thead>\n",
              "  <tbody>\n",
              "    <tr>\n",
              "      <th>23161</th>\n",
              "      <td>18750597</td>\n",
              "      <td>Huge Brooklyn Brownstone Living, Close to it all.</td>\n",
              "      <td>8993084</td>\n",
              "      <td>Kimberly</td>\n",
              "      <td>Brooklyn</td>\n",
              "      <td>Bedford-Stuyvesant</td>\n",
              "      <td>40.69023</td>\n",
              "      <td>-73.95428</td>\n",
              "      <td>Private room</td>\n",
              "      <td>0</td>\n",
              "      <td>4</td>\n",
              "      <td>1</td>\n",
              "      <td>2018-01-06</td>\n",
              "      <td>0.05</td>\n",
              "      <td>4</td>\n",
              "      <td>28</td>\n",
              "    </tr>\n",
              "    <tr>\n",
              "      <th>25433</th>\n",
              "      <td>20333471</td>\n",
              "      <td>★Hostel Style Room | Ideal Traveling Buddies★</td>\n",
              "      <td>131697576</td>\n",
              "      <td>Anisha</td>\n",
              "      <td>Bronx</td>\n",
              "      <td>East Morrisania</td>\n",
              "      <td>40.83296</td>\n",
              "      <td>-73.88668</td>\n",
              "      <td>Private room</td>\n",
              "      <td>0</td>\n",
              "      <td>2</td>\n",
              "      <td>55</td>\n",
              "      <td>2019-06-24</td>\n",
              "      <td>2.56</td>\n",
              "      <td>4</td>\n",
              "      <td>127</td>\n",
              "    </tr>\n",
              "    <tr>\n",
              "      <th>25634</th>\n",
              "      <td>20523843</td>\n",
              "      <td>MARTIAL LOFT 3: REDEMPTION (upstairs, 2nd room)</td>\n",
              "      <td>15787004</td>\n",
              "      <td>Martial Loft</td>\n",
              "      <td>Brooklyn</td>\n",
              "      <td>Bushwick</td>\n",
              "      <td>40.69467</td>\n",
              "      <td>-73.92433</td>\n",
              "      <td>Private room</td>\n",
              "      <td>0</td>\n",
              "      <td>2</td>\n",
              "      <td>16</td>\n",
              "      <td>2019-05-18</td>\n",
              "      <td>0.71</td>\n",
              "      <td>5</td>\n",
              "      <td>0</td>\n",
              "    </tr>\n",
              "    <tr>\n",
              "      <th>25753</th>\n",
              "      <td>20608117</td>\n",
              "      <td>Sunny, Quiet Room in Greenpoint</td>\n",
              "      <td>1641537</td>\n",
              "      <td>Lauren</td>\n",
              "      <td>Brooklyn</td>\n",
              "      <td>Greenpoint</td>\n",
              "      <td>40.72462</td>\n",
              "      <td>-73.94072</td>\n",
              "      <td>Private room</td>\n",
              "      <td>0</td>\n",
              "      <td>2</td>\n",
              "      <td>12</td>\n",
              "      <td>2017-10-27</td>\n",
              "      <td>0.53</td>\n",
              "      <td>2</td>\n",
              "      <td>0</td>\n",
              "    </tr>\n",
              "    <tr>\n",
              "      <th>25778</th>\n",
              "      <td>20624541</td>\n",
              "      <td>Modern apartment in the heart of Williamsburg</td>\n",
              "      <td>10132166</td>\n",
              "      <td>Aymeric</td>\n",
              "      <td>Brooklyn</td>\n",
              "      <td>Williamsburg</td>\n",
              "      <td>40.70838</td>\n",
              "      <td>-73.94645</td>\n",
              "      <td>Entire home/apt</td>\n",
              "      <td>0</td>\n",
              "      <td>5</td>\n",
              "      <td>3</td>\n",
              "      <td>2018-01-02</td>\n",
              "      <td>0.15</td>\n",
              "      <td>1</td>\n",
              "      <td>73</td>\n",
              "    </tr>\n",
              "    <tr>\n",
              "      <th>25794</th>\n",
              "      <td>20639628</td>\n",
              "      <td>Spacious comfortable master bedroom with nice ...</td>\n",
              "      <td>86327101</td>\n",
              "      <td>Adeyemi</td>\n",
              "      <td>Brooklyn</td>\n",
              "      <td>Bedford-Stuyvesant</td>\n",
              "      <td>40.68173</td>\n",
              "      <td>-73.91342</td>\n",
              "      <td>Private room</td>\n",
              "      <td>0</td>\n",
              "      <td>1</td>\n",
              "      <td>93</td>\n",
              "      <td>2019-06-15</td>\n",
              "      <td>4.28</td>\n",
              "      <td>6</td>\n",
              "      <td>176</td>\n",
              "    </tr>\n",
              "    <tr>\n",
              "      <th>25795</th>\n",
              "      <td>20639792</td>\n",
              "      <td>Contemporary bedroom in brownstone with nice view</td>\n",
              "      <td>86327101</td>\n",
              "      <td>Adeyemi</td>\n",
              "      <td>Brooklyn</td>\n",
              "      <td>Bedford-Stuyvesant</td>\n",
              "      <td>40.68279</td>\n",
              "      <td>-73.91170</td>\n",
              "      <td>Private room</td>\n",
              "      <td>0</td>\n",
              "      <td>1</td>\n",
              "      <td>95</td>\n",
              "      <td>2019-06-21</td>\n",
              "      <td>4.37</td>\n",
              "      <td>6</td>\n",
              "      <td>232</td>\n",
              "    </tr>\n",
              "    <tr>\n",
              "      <th>25796</th>\n",
              "      <td>20639914</td>\n",
              "      <td>Cozy yet spacious private brownstone bedroom</td>\n",
              "      <td>86327101</td>\n",
              "      <td>Adeyemi</td>\n",
              "      <td>Brooklyn</td>\n",
              "      <td>Bedford-Stuyvesant</td>\n",
              "      <td>40.68258</td>\n",
              "      <td>-73.91284</td>\n",
              "      <td>Private room</td>\n",
              "      <td>0</td>\n",
              "      <td>1</td>\n",
              "      <td>95</td>\n",
              "      <td>2019-06-23</td>\n",
              "      <td>4.35</td>\n",
              "      <td>6</td>\n",
              "      <td>222</td>\n",
              "    </tr>\n",
              "    <tr>\n",
              "      <th>26259</th>\n",
              "      <td>20933849</td>\n",
              "      <td>the best you can find</td>\n",
              "      <td>13709292</td>\n",
              "      <td>Qiuchi</td>\n",
              "      <td>Manhattan</td>\n",
              "      <td>Murray Hill</td>\n",
              "      <td>40.75091</td>\n",
              "      <td>-73.97597</td>\n",
              "      <td>Entire home/apt</td>\n",
              "      <td>0</td>\n",
              "      <td>3</td>\n",
              "      <td>0</td>\n",
              "      <td>NaN</td>\n",
              "      <td>NaN</td>\n",
              "      <td>1</td>\n",
              "      <td>0</td>\n",
              "    </tr>\n",
              "    <tr>\n",
              "      <th>26841</th>\n",
              "      <td>21291569</td>\n",
              "      <td>Coliving in Brooklyn! Modern design / Shared room</td>\n",
              "      <td>101970559</td>\n",
              "      <td>Sergii</td>\n",
              "      <td>Brooklyn</td>\n",
              "      <td>Bushwick</td>\n",
              "      <td>40.69211</td>\n",
              "      <td>-73.90670</td>\n",
              "      <td>Shared room</td>\n",
              "      <td>0</td>\n",
              "      <td>30</td>\n",
              "      <td>2</td>\n",
              "      <td>2019-06-22</td>\n",
              "      <td>0.11</td>\n",
              "      <td>6</td>\n",
              "      <td>333</td>\n",
              "    </tr>\n",
              "    <tr>\n",
              "      <th>26866</th>\n",
              "      <td>21304320</td>\n",
              "      <td>Best Coliving space ever! Shared room.</td>\n",
              "      <td>101970559</td>\n",
              "      <td>Sergii</td>\n",
              "      <td>Brooklyn</td>\n",
              "      <td>Bushwick</td>\n",
              "      <td>40.69166</td>\n",
              "      <td>-73.90928</td>\n",
              "      <td>Shared room</td>\n",
              "      <td>0</td>\n",
              "      <td>30</td>\n",
              "      <td>5</td>\n",
              "      <td>2019-05-24</td>\n",
              "      <td>0.26</td>\n",
              "      <td>6</td>\n",
              "      <td>139</td>\n",
              "    </tr>\n",
              "  </tbody>\n",
              "</table>\n",
              "</div>\n",
              "      <button class=\"colab-df-convert\" onclick=\"convertToInteractive('df-d24c8910-4658-4a4b-a82d-114da60125f0')\"\n",
              "              title=\"Convert this dataframe to an interactive table.\"\n",
              "              style=\"display:none;\">\n",
              "        \n",
              "  <svg xmlns=\"http://www.w3.org/2000/svg\" height=\"24px\"viewBox=\"0 0 24 24\"\n",
              "       width=\"24px\">\n",
              "    <path d=\"M0 0h24v24H0V0z\" fill=\"none\"/>\n",
              "    <path d=\"M18.56 5.44l.94 2.06.94-2.06 2.06-.94-2.06-.94-.94-2.06-.94 2.06-2.06.94zm-11 1L8.5 8.5l.94-2.06 2.06-.94-2.06-.94L8.5 2.5l-.94 2.06-2.06.94zm10 10l.94 2.06.94-2.06 2.06-.94-2.06-.94-.94-2.06-.94 2.06-2.06.94z\"/><path d=\"M17.41 7.96l-1.37-1.37c-.4-.4-.92-.59-1.43-.59-.52 0-1.04.2-1.43.59L10.3 9.45l-7.72 7.72c-.78.78-.78 2.05 0 2.83L4 21.41c.39.39.9.59 1.41.59.51 0 1.02-.2 1.41-.59l7.78-7.78 2.81-2.81c.8-.78.8-2.07 0-2.86zM5.41 20L4 18.59l7.72-7.72 1.47 1.35L5.41 20z\"/>\n",
              "  </svg>\n",
              "      </button>\n",
              "      \n",
              "  <style>\n",
              "    .colab-df-container {\n",
              "      display:flex;\n",
              "      flex-wrap:wrap;\n",
              "      gap: 12px;\n",
              "    }\n",
              "\n",
              "    .colab-df-convert {\n",
              "      background-color: #E8F0FE;\n",
              "      border: none;\n",
              "      border-radius: 50%;\n",
              "      cursor: pointer;\n",
              "      display: none;\n",
              "      fill: #1967D2;\n",
              "      height: 32px;\n",
              "      padding: 0 0 0 0;\n",
              "      width: 32px;\n",
              "    }\n",
              "\n",
              "    .colab-df-convert:hover {\n",
              "      background-color: #E2EBFA;\n",
              "      box-shadow: 0px 1px 2px rgba(60, 64, 67, 0.3), 0px 1px 3px 1px rgba(60, 64, 67, 0.15);\n",
              "      fill: #174EA6;\n",
              "    }\n",
              "\n",
              "    [theme=dark] .colab-df-convert {\n",
              "      background-color: #3B4455;\n",
              "      fill: #D2E3FC;\n",
              "    }\n",
              "\n",
              "    [theme=dark] .colab-df-convert:hover {\n",
              "      background-color: #434B5C;\n",
              "      box-shadow: 0px 1px 3px 1px rgba(0, 0, 0, 0.15);\n",
              "      filter: drop-shadow(0px 1px 2px rgba(0, 0, 0, 0.3));\n",
              "      fill: #FFFFFF;\n",
              "    }\n",
              "  </style>\n",
              "\n",
              "      <script>\n",
              "        const buttonEl =\n",
              "          document.querySelector('#df-d24c8910-4658-4a4b-a82d-114da60125f0 button.colab-df-convert');\n",
              "        buttonEl.style.display =\n",
              "          google.colab.kernel.accessAllowed ? 'block' : 'none';\n",
              "\n",
              "        async function convertToInteractive(key) {\n",
              "          const element = document.querySelector('#df-d24c8910-4658-4a4b-a82d-114da60125f0');\n",
              "          const dataTable =\n",
              "            await google.colab.kernel.invokeFunction('convertToInteractive',\n",
              "                                                     [key], {});\n",
              "          if (!dataTable) return;\n",
              "\n",
              "          const docLinkHtml = 'Like what you see? Visit the ' +\n",
              "            '<a target=\"_blank\" href=https://colab.research.google.com/notebooks/data_table.ipynb>data table notebook</a>'\n",
              "            + ' to learn more about interactive tables.';\n",
              "          element.innerHTML = '';\n",
              "          dataTable['output_type'] = 'display_data';\n",
              "          await google.colab.output.renderOutput(dataTable, element);\n",
              "          const docLink = document.createElement('div');\n",
              "          docLink.innerHTML = docLinkHtml;\n",
              "          element.appendChild(docLink);\n",
              "        }\n",
              "      </script>\n",
              "    </div>\n",
              "  </div>\n",
              "  "
            ],
            "text/plain": [
              "             id  ... availability_365\n",
              "23161  18750597  ...               28\n",
              "25433  20333471  ...              127\n",
              "25634  20523843  ...                0\n",
              "25753  20608117  ...                0\n",
              "25778  20624541  ...               73\n",
              "25794  20639628  ...              176\n",
              "25795  20639792  ...              232\n",
              "25796  20639914  ...              222\n",
              "26259  20933849  ...                0\n",
              "26841  21291569  ...              333\n",
              "26866  21304320  ...              139\n",
              "\n",
              "[11 rows x 16 columns]"
            ]
          },
          "metadata": {},
          "execution_count": 20
        }
      ]
    },
    {
      "cell_type": "code",
      "source": [
        "df.drop(zero_pricing,inplace =True)   ### dropping rows"
      ],
      "metadata": {
        "id": "DjJzj5k5HBI_"
      },
      "execution_count": 21,
      "outputs": []
    },
    {
      "cell_type": "markdown",
      "source": [
        "* ***Lets see how pricing varies with neighbourhood group***"
      ],
      "metadata": {
        "id": "dzFqRTHyD9P2"
      }
    },
    {
      "cell_type": "code",
      "source": [
        "df.groupby(by = \"neighbourhood_group\")[\"price\"].describe()   ### first griouping by neighbourhood_group then applying describe()"
      ],
      "metadata": {
        "colab": {
          "base_uri": "https://localhost:8080/",
          "height": 237
        },
        "id": "ii8XfeihDdEl",
        "outputId": "a4a7f96c-fa6a-41dd-a1d6-d497006a2e72"
      },
      "execution_count": 22,
      "outputs": [
        {
          "output_type": "execute_result",
          "data": {
            "text/html": [
              "\n",
              "  <div id=\"df-6c016060-f0f7-4686-8065-18bd903c3822\">\n",
              "    <div class=\"colab-df-container\">\n",
              "      <div>\n",
              "<style scoped>\n",
              "    .dataframe tbody tr th:only-of-type {\n",
              "        vertical-align: middle;\n",
              "    }\n",
              "\n",
              "    .dataframe tbody tr th {\n",
              "        vertical-align: top;\n",
              "    }\n",
              "\n",
              "    .dataframe thead th {\n",
              "        text-align: right;\n",
              "    }\n",
              "</style>\n",
              "<table border=\"1\" class=\"dataframe\">\n",
              "  <thead>\n",
              "    <tr style=\"text-align: right;\">\n",
              "      <th></th>\n",
              "      <th>count</th>\n",
              "      <th>mean</th>\n",
              "      <th>std</th>\n",
              "      <th>min</th>\n",
              "      <th>25%</th>\n",
              "      <th>50%</th>\n",
              "      <th>75%</th>\n",
              "      <th>max</th>\n",
              "    </tr>\n",
              "    <tr>\n",
              "      <th>neighbourhood_group</th>\n",
              "      <th></th>\n",
              "      <th></th>\n",
              "      <th></th>\n",
              "      <th></th>\n",
              "      <th></th>\n",
              "      <th></th>\n",
              "      <th></th>\n",
              "      <th></th>\n",
              "    </tr>\n",
              "  </thead>\n",
              "  <tbody>\n",
              "    <tr>\n",
              "      <th>Bronx</th>\n",
              "      <td>1090.0</td>\n",
              "      <td>87.577064</td>\n",
              "      <td>106.725371</td>\n",
              "      <td>10.0</td>\n",
              "      <td>45.0</td>\n",
              "      <td>65.0</td>\n",
              "      <td>99.0</td>\n",
              "      <td>2500.0</td>\n",
              "    </tr>\n",
              "    <tr>\n",
              "      <th>Brooklyn</th>\n",
              "      <td>20095.0</td>\n",
              "      <td>124.438915</td>\n",
              "      <td>186.896837</td>\n",
              "      <td>10.0</td>\n",
              "      <td>60.0</td>\n",
              "      <td>90.0</td>\n",
              "      <td>150.0</td>\n",
              "      <td>10000.0</td>\n",
              "    </tr>\n",
              "    <tr>\n",
              "      <th>Manhattan</th>\n",
              "      <td>21660.0</td>\n",
              "      <td>196.884903</td>\n",
              "      <td>291.386838</td>\n",
              "      <td>10.0</td>\n",
              "      <td>95.0</td>\n",
              "      <td>150.0</td>\n",
              "      <td>220.0</td>\n",
              "      <td>10000.0</td>\n",
              "    </tr>\n",
              "    <tr>\n",
              "      <th>Queens</th>\n",
              "      <td>5666.0</td>\n",
              "      <td>99.517649</td>\n",
              "      <td>167.102155</td>\n",
              "      <td>10.0</td>\n",
              "      <td>50.0</td>\n",
              "      <td>75.0</td>\n",
              "      <td>110.0</td>\n",
              "      <td>10000.0</td>\n",
              "    </tr>\n",
              "    <tr>\n",
              "      <th>Staten Island</th>\n",
              "      <td>373.0</td>\n",
              "      <td>114.812332</td>\n",
              "      <td>277.620403</td>\n",
              "      <td>13.0</td>\n",
              "      <td>50.0</td>\n",
              "      <td>75.0</td>\n",
              "      <td>110.0</td>\n",
              "      <td>5000.0</td>\n",
              "    </tr>\n",
              "  </tbody>\n",
              "</table>\n",
              "</div>\n",
              "      <button class=\"colab-df-convert\" onclick=\"convertToInteractive('df-6c016060-f0f7-4686-8065-18bd903c3822')\"\n",
              "              title=\"Convert this dataframe to an interactive table.\"\n",
              "              style=\"display:none;\">\n",
              "        \n",
              "  <svg xmlns=\"http://www.w3.org/2000/svg\" height=\"24px\"viewBox=\"0 0 24 24\"\n",
              "       width=\"24px\">\n",
              "    <path d=\"M0 0h24v24H0V0z\" fill=\"none\"/>\n",
              "    <path d=\"M18.56 5.44l.94 2.06.94-2.06 2.06-.94-2.06-.94-.94-2.06-.94 2.06-2.06.94zm-11 1L8.5 8.5l.94-2.06 2.06-.94-2.06-.94L8.5 2.5l-.94 2.06-2.06.94zm10 10l.94 2.06.94-2.06 2.06-.94-2.06-.94-.94-2.06-.94 2.06-2.06.94z\"/><path d=\"M17.41 7.96l-1.37-1.37c-.4-.4-.92-.59-1.43-.59-.52 0-1.04.2-1.43.59L10.3 9.45l-7.72 7.72c-.78.78-.78 2.05 0 2.83L4 21.41c.39.39.9.59 1.41.59.51 0 1.02-.2 1.41-.59l7.78-7.78 2.81-2.81c.8-.78.8-2.07 0-2.86zM5.41 20L4 18.59l7.72-7.72 1.47 1.35L5.41 20z\"/>\n",
              "  </svg>\n",
              "      </button>\n",
              "      \n",
              "  <style>\n",
              "    .colab-df-container {\n",
              "      display:flex;\n",
              "      flex-wrap:wrap;\n",
              "      gap: 12px;\n",
              "    }\n",
              "\n",
              "    .colab-df-convert {\n",
              "      background-color: #E8F0FE;\n",
              "      border: none;\n",
              "      border-radius: 50%;\n",
              "      cursor: pointer;\n",
              "      display: none;\n",
              "      fill: #1967D2;\n",
              "      height: 32px;\n",
              "      padding: 0 0 0 0;\n",
              "      width: 32px;\n",
              "    }\n",
              "\n",
              "    .colab-df-convert:hover {\n",
              "      background-color: #E2EBFA;\n",
              "      box-shadow: 0px 1px 2px rgba(60, 64, 67, 0.3), 0px 1px 3px 1px rgba(60, 64, 67, 0.15);\n",
              "      fill: #174EA6;\n",
              "    }\n",
              "\n",
              "    [theme=dark] .colab-df-convert {\n",
              "      background-color: #3B4455;\n",
              "      fill: #D2E3FC;\n",
              "    }\n",
              "\n",
              "    [theme=dark] .colab-df-convert:hover {\n",
              "      background-color: #434B5C;\n",
              "      box-shadow: 0px 1px 3px 1px rgba(0, 0, 0, 0.15);\n",
              "      filter: drop-shadow(0px 1px 2px rgba(0, 0, 0, 0.3));\n",
              "      fill: #FFFFFF;\n",
              "    }\n",
              "  </style>\n",
              "\n",
              "      <script>\n",
              "        const buttonEl =\n",
              "          document.querySelector('#df-6c016060-f0f7-4686-8065-18bd903c3822 button.colab-df-convert');\n",
              "        buttonEl.style.display =\n",
              "          google.colab.kernel.accessAllowed ? 'block' : 'none';\n",
              "\n",
              "        async function convertToInteractive(key) {\n",
              "          const element = document.querySelector('#df-6c016060-f0f7-4686-8065-18bd903c3822');\n",
              "          const dataTable =\n",
              "            await google.colab.kernel.invokeFunction('convertToInteractive',\n",
              "                                                     [key], {});\n",
              "          if (!dataTable) return;\n",
              "\n",
              "          const docLinkHtml = 'Like what you see? Visit the ' +\n",
              "            '<a target=\"_blank\" href=https://colab.research.google.com/notebooks/data_table.ipynb>data table notebook</a>'\n",
              "            + ' to learn more about interactive tables.';\n",
              "          element.innerHTML = '';\n",
              "          dataTable['output_type'] = 'display_data';\n",
              "          await google.colab.output.renderOutput(dataTable, element);\n",
              "          const docLink = document.createElement('div');\n",
              "          docLink.innerHTML = docLinkHtml;\n",
              "          element.appendChild(docLink);\n",
              "        }\n",
              "      </script>\n",
              "    </div>\n",
              "  </div>\n",
              "  "
            ],
            "text/plain": [
              "                       count        mean         std  ...    50%    75%      max\n",
              "neighbourhood_group                                   ...                       \n",
              "Bronx                 1090.0   87.577064  106.725371  ...   65.0   99.0   2500.0\n",
              "Brooklyn             20095.0  124.438915  186.896837  ...   90.0  150.0  10000.0\n",
              "Manhattan            21660.0  196.884903  291.386838  ...  150.0  220.0  10000.0\n",
              "Queens                5666.0   99.517649  167.102155  ...   75.0  110.0  10000.0\n",
              "Staten Island          373.0  114.812332  277.620403  ...   75.0  110.0   5000.0\n",
              "\n",
              "[5 rows x 8 columns]"
            ]
          },
          "metadata": {},
          "execution_count": 22
        }
      ]
    },
    {
      "cell_type": "markdown",
      "source": [
        "We can see that manhattan is the costliest neighbourhood with a mean price of 220 and Bronx is the cheapest with a mean price of 99"
      ],
      "metadata": {
        "id": "aiaLNSjWMWw1"
      }
    },
    {
      "cell_type": "markdown",
      "source": [
        "We can also see that there is huge difference between 75% and max price. Let's restrict our dataset to 99% for price and observe the distribution of data from 0 to 99 percentile through violin plot."
      ],
      "metadata": {
        "id": "cyWdqvXSoT27"
      }
    },
    {
      "cell_type": "code",
      "source": [
        "plt.figure(figsize = (8,8))\n",
        "sns.violinplot( data = df[df[\"price\"]<df[\"price\"].quantile(0.99)] , x = \"neighbourhood_group\" , y = \"price\")    ### restricting our violinplot to 99 percentile of price\n",
        "plt.title(\"Distribution of Price for each neighbourhood_group\")\n",
        "\n",
        "plt.show()"
      ],
      "metadata": {
        "colab": {
          "base_uri": "https://localhost:8080/",
          "height": 513
        },
        "id": "J7oMI4dMoIQz",
        "outputId": "f297235e-ceb5-4c28-89d6-4a9ac137d9ba"
      },
      "execution_count": 23,
      "outputs": [
        {
          "output_type": "display_data",
          "data": {
            "image/png": "[encoded data removed]",
            "text/plain": [
              "<Figure size 576x576 with 1 Axes>"
            ]
          },
          "metadata": {
            "needs_background": "light"
          }
        }
      ]
    },
    {
      "cell_type": "markdown",
      "source": [
        "***Let's plot boxplot for the same***"
      ],
      "metadata": {
        "id": "FgC1L3QqL9mH"
      }
    },
    {
      "cell_type": "code",
      "source": [
        "plt.figure(figsize = (8,8))\n",
        "sns.boxplot( data = df[df[\"price\"]<df[\"price\"].quantile(0.99)] , x = \"neighbourhood_group\" , y = \"price\")    ### restricting our violinplot to 99 percentile of price\n",
        "plt.title(\"Distribution of Price for each neighbourhood_group\")\n",
        "\n",
        "plt.show()"
      ],
      "metadata": {
        "colab": {
          "base_uri": "https://localhost:8080/",
          "height": 513
        },
        "id": "bWKwr0EHL8Pr",
        "outputId": "9384cc4f-c827-499f-db4a-fbeda2292236"
      },
      "execution_count": 24,
      "outputs": [
        {
          "output_type": "display_data",
          "data": {
            "image/png": "[encoded data removed]",
            "text/plain": [
              "<Figure size 576x576 with 1 Axes>"
            ]
          },
          "metadata": {
            "needs_background": "light"
          }
        }
      ]
    },
    {
      "cell_type": "markdown",
      "source": [
        "We can see that we have very few data points in Queens,Staten_ Island,Bronx neighburhood as prices reaches there max.These could be outliers. "
      ],
      "metadata": {
        "id": "gPj8Dz6QM5-Y"
      }
    },
    {
      "cell_type": "markdown",
      "source": [
        "***Now lets analyse neighbourhood and price column together to see if there is any relation***"
      ],
      "metadata": {
        "id": "xZtys27W2LRc"
      }
    },
    {
      "cell_type": "markdown",
      "source": [
        "* ***Now let's see top 10 neighbourhood with highest mean price***"
      ],
      "metadata": {
        "id": "WTU1CHryGvZY"
      }
    },
    {
      "cell_type": "code",
      "source": [
        "df.groupby(by = \"neighbourhood\")[\"price\"].mean().reset_index(name = \"mean_price\").sort_values(by =\"mean_price\" , ascending = False).iloc[:10]"
      ],
      "metadata": {
        "colab": {
          "base_uri": "https://localhost:8080/",
          "height": 362
        },
        "id": "hwDF4HQlFsOF",
        "outputId": "c58951c2-08d4-4217-b59a-02fd100d2e19"
      },
      "execution_count": 25,
      "outputs": [
        {
          "output_type": "execute_result",
          "data": {
            "text/html": [
              "\n",
              "  <div id=\"df-977592e0-133b-4bd6-94ff-e29c26c42dd1\">\n",
              "    <div class=\"colab-df-container\">\n",
              "      <div>\n",
              "<style scoped>\n",
              "    .dataframe tbody tr th:only-of-type {\n",
              "        vertical-align: middle;\n",
              "    }\n",
              "\n",
              "    .dataframe tbody tr th {\n",
              "        vertical-align: top;\n",
              "    }\n",
              "\n",
              "    .dataframe thead th {\n",
              "        text-align: right;\n",
              "    }\n",
              "</style>\n",
              "<table border=\"1\" class=\"dataframe\">\n",
              "  <thead>\n",
              "    <tr style=\"text-align: right;\">\n",
              "      <th></th>\n",
              "      <th>neighbourhood</th>\n",
              "      <th>mean_price</th>\n",
              "    </tr>\n",
              "  </thead>\n",
              "  <tbody>\n",
              "    <tr>\n",
              "      <th>82</th>\n",
              "      <td>Fort Wadsworth</td>\n",
              "      <td>800.000000</td>\n",
              "    </tr>\n",
              "    <tr>\n",
              "      <th>219</th>\n",
              "      <td>Woodrow</td>\n",
              "      <td>700.000000</td>\n",
              "    </tr>\n",
              "    <tr>\n",
              "      <th>197</th>\n",
              "      <td>Tribeca</td>\n",
              "      <td>490.638418</td>\n",
              "    </tr>\n",
              "    <tr>\n",
              "      <th>174</th>\n",
              "      <td>Sea Gate</td>\n",
              "      <td>487.857143</td>\n",
              "    </tr>\n",
              "    <tr>\n",
              "      <th>167</th>\n",
              "      <td>Riverdale</td>\n",
              "      <td>442.090909</td>\n",
              "    </tr>\n",
              "    <tr>\n",
              "      <th>157</th>\n",
              "      <td>Prince's Bay</td>\n",
              "      <td>409.500000</td>\n",
              "    </tr>\n",
              "    <tr>\n",
              "      <th>6</th>\n",
              "      <td>Battery Park City</td>\n",
              "      <td>367.557143</td>\n",
              "    </tr>\n",
              "    <tr>\n",
              "      <th>75</th>\n",
              "      <td>Flatiron District</td>\n",
              "      <td>341.925000</td>\n",
              "    </tr>\n",
              "    <tr>\n",
              "      <th>161</th>\n",
              "      <td>Randall Manor</td>\n",
              "      <td>336.000000</td>\n",
              "    </tr>\n",
              "    <tr>\n",
              "      <th>144</th>\n",
              "      <td>NoHo</td>\n",
              "      <td>295.717949</td>\n",
              "    </tr>\n",
              "  </tbody>\n",
              "</table>\n",
              "</div>\n",
              "      <button class=\"colab-df-convert\" onclick=\"convertToInteractive('df-977592e0-133b-4bd6-94ff-e29c26c42dd1')\"\n",
              "              title=\"Convert this dataframe to an interactive table.\"\n",
              "              style=\"display:none;\">\n",
              "        \n",
              "  <svg xmlns=\"http://www.w3.org/2000/svg\" height=\"24px\"viewBox=\"0 0 24 24\"\n",
              "       width=\"24px\">\n",
              "    <path d=\"M0 0h24v24H0V0z\" fill=\"none\"/>\n",
              "    <path d=\"M18.56 5.44l.94 2.06.94-2.06 2.06-.94-2.06-.94-.94-2.06-.94 2.06-2.06.94zm-11 1L8.5 8.5l.94-2.06 2.06-.94-2.06-.94L8.5 2.5l-.94 2.06-2.06.94zm10 10l.94 2.06.94-2.06 2.06-.94-2.06-.94-.94-2.06-.94 2.06-2.06.94z\"/><path d=\"M17.41 7.96l-1.37-1.37c-.4-.4-.92-.59-1.43-.59-.52 0-1.04.2-1.43.59L10.3 9.45l-7.72 7.72c-.78.78-.78 2.05 0 2.83L4 21.41c.39.39.9.59 1.41.59.51 0 1.02-.2 1.41-.59l7.78-7.78 2.81-2.81c.8-.78.8-2.07 0-2.86zM5.41 20L4 18.59l7.72-7.72 1.47 1.35L5.41 20z\"/>\n",
              "  </svg>\n",
              "      </button>\n",
              "      \n",
              "  <style>\n",
              "    .colab-df-container {\n",
              "      display:flex;\n",
              "      flex-wrap:wrap;\n",
              "      gap: 12px;\n",
              "    }\n",
              "\n",
              "    .colab-df-convert {\n",
              "      background-color: #E8F0FE;\n",
              "      border: none;\n",
              "      border-radius: 50%;\n",
              "      cursor: pointer;\n",
              "      display: none;\n",
              "      fill: #1967D2;\n",
              "      height: 32px;\n",
              "      padding: 0 0 0 0;\n",
              "      width: 32px;\n",
              "    }\n",
              "\n",
              "    .colab-df-convert:hover {\n",
              "      background-color: #E2EBFA;\n",
              "      box-shadow: 0px 1px 2px rgba(60, 64, 67, 0.3), 0px 1px 3px 1px rgba(60, 64, 67, 0.15);\n",
              "      fill: #174EA6;\n",
              "    }\n",
              "\n",
              "    [theme=dark] .colab-df-convert {\n",
              "      background-color: #3B4455;\n",
              "      fill: #D2E3FC;\n",
              "    }\n",
              "\n",
              "    [theme=dark] .colab-df-convert:hover {\n",
              "      background-color: #434B5C;\n",
              "      box-shadow: 0px 1px 3px 1px rgba(0, 0, 0, 0.15);\n",
              "      filter: drop-shadow(0px 1px 2px rgba(0, 0, 0, 0.3));\n",
              "      fill: #FFFFFF;\n",
              "    }\n",
              "  </style>\n",
              "\n",
              "      <script>\n",
              "        const buttonEl =\n",
              "          document.querySelector('#df-977592e0-133b-4bd6-94ff-e29c26c42dd1 button.colab-df-convert');\n",
              "        buttonEl.style.display =\n",
              "          google.colab.kernel.accessAllowed ? 'block' : 'none';\n",
              "\n",
              "        async function convertToInteractive(key) {\n",
              "          const element = document.querySelector('#df-977592e0-133b-4bd6-94ff-e29c26c42dd1');\n",
              "          const dataTable =\n",
              "            await google.colab.kernel.invokeFunction('convertToInteractive',\n",
              "                                                     [key], {});\n",
              "          if (!dataTable) return;\n",
              "\n",
              "          const docLinkHtml = 'Like what you see? Visit the ' +\n",
              "            '<a target=\"_blank\" href=https://colab.research.google.com/notebooks/data_table.ipynb>data table notebook</a>'\n",
              "            + ' to learn more about interactive tables.';\n",
              "          element.innerHTML = '';\n",
              "          dataTable['output_type'] = 'display_data';\n",
              "          await google.colab.output.renderOutput(dataTable, element);\n",
              "          const docLink = document.createElement('div');\n",
              "          docLink.innerHTML = docLinkHtml;\n",
              "          element.appendChild(docLink);\n",
              "        }\n",
              "      </script>\n",
              "    </div>\n",
              "  </div>\n",
              "  "
            ],
            "text/plain": [
              "         neighbourhood  mean_price\n",
              "82      Fort Wadsworth  800.000000\n",
              "219            Woodrow  700.000000\n",
              "197            Tribeca  490.638418\n",
              "174           Sea Gate  487.857143\n",
              "167          Riverdale  442.090909\n",
              "157       Prince's Bay  409.500000\n",
              "6    Battery Park City  367.557143\n",
              "75   Flatiron District  341.925000\n",
              "161      Randall Manor  336.000000\n",
              "144               NoHo  295.717949"
            ]
          },
          "metadata": {},
          "execution_count": 25
        }
      ]
    },
    {
      "cell_type": "code",
      "source": [
        "df.groupby(by = \"neighbourhood\")[\"price\"].mean().reset_index(name = \"mean_price\").sort_values(by =\"mean_price\" , ascending = True).iloc[:10]"
      ],
      "metadata": {
        "colab": {
          "base_uri": "https://localhost:8080/",
          "height": 362
        },
        "id": "I8D5CU87HgYA",
        "outputId": "68bddf8b-72c9-45ea-87dc-8d1f27214119"
      },
      "execution_count": 26,
      "outputs": [
        {
          "output_type": "execute_result",
          "data": {
            "text/html": [
              "\n",
              "  <div id=\"df-8b91ae2e-8493-4288-9cf0-634598e858cb\">\n",
              "    <div class=\"colab-df-container\">\n",
              "      <div>\n",
              "<style scoped>\n",
              "    .dataframe tbody tr th:only-of-type {\n",
              "        vertical-align: middle;\n",
              "    }\n",
              "\n",
              "    .dataframe tbody tr th {\n",
              "        vertical-align: top;\n",
              "    }\n",
              "\n",
              "    .dataframe thead th {\n",
              "        text-align: right;\n",
              "    }\n",
              "</style>\n",
              "<table border=\"1\" class=\"dataframe\">\n",
              "  <thead>\n",
              "    <tr style=\"text-align: right;\">\n",
              "      <th></th>\n",
              "      <th>neighbourhood</th>\n",
              "      <th>mean_price</th>\n",
              "    </tr>\n",
              "  </thead>\n",
              "  <tbody>\n",
              "    <tr>\n",
              "      <th>27</th>\n",
              "      <td>Bull's Head</td>\n",
              "      <td>47.333333</td>\n",
              "    </tr>\n",
              "    <tr>\n",
              "      <th>102</th>\n",
              "      <td>Hunts Point</td>\n",
              "      <td>50.500000</td>\n",
              "    </tr>\n",
              "    <tr>\n",
              "      <th>196</th>\n",
              "      <td>Tremont</td>\n",
              "      <td>51.545455</td>\n",
              "    </tr>\n",
              "    <tr>\n",
              "      <th>179</th>\n",
              "      <td>Soundview</td>\n",
              "      <td>53.466667</td>\n",
              "    </tr>\n",
              "    <tr>\n",
              "      <th>141</th>\n",
              "      <td>New Dorp</td>\n",
              "      <td>57.000000</td>\n",
              "    </tr>\n",
              "    <tr>\n",
              "      <th>24</th>\n",
              "      <td>Bronxdale</td>\n",
              "      <td>57.105263</td>\n",
              "    </tr>\n",
              "    <tr>\n",
              "      <th>142</th>\n",
              "      <td>New Dorp Beach</td>\n",
              "      <td>57.400000</td>\n",
              "    </tr>\n",
              "    <tr>\n",
              "      <th>88</th>\n",
              "      <td>Grant City</td>\n",
              "      <td>57.666667</td>\n",
              "    </tr>\n",
              "    <tr>\n",
              "      <th>46</th>\n",
              "      <td>Concord</td>\n",
              "      <td>58.192308</td>\n",
              "    </tr>\n",
              "    <tr>\n",
              "      <th>135</th>\n",
              "      <td>Mount Eden</td>\n",
              "      <td>58.500000</td>\n",
              "    </tr>\n",
              "  </tbody>\n",
              "</table>\n",
              "</div>\n",
              "      <button class=\"colab-df-convert\" onclick=\"convertToInteractive('df-8b91ae2e-8493-4288-9cf0-634598e858cb')\"\n",
              "              title=\"Convert this dataframe to an interactive table.\"\n",
              "              style=\"display:none;\">\n",
              "        \n",
              "  <svg xmlns=\"http://www.w3.org/2000/svg\" height=\"24px\"viewBox=\"0 0 24 24\"\n",
              "       width=\"24px\">\n",
              "    <path d=\"M0 0h24v24H0V0z\" fill=\"none\"/>\n",
              "    <path d=\"M18.56 5.44l.94 2.06.94-2.06 2.06-.94-2.06-.94-.94-2.06-.94 2.06-2.06.94zm-11 1L8.5 8.5l.94-2.06 2.06-.94-2.06-.94L8.5 2.5l-.94 2.06-2.06.94zm10 10l.94 2.06.94-2.06 2.06-.94-2.06-.94-.94-2.06-.94 2.06-2.06.94z\"/><path d=\"M17.41 7.96l-1.37-1.37c-.4-.4-.92-.59-1.43-.59-.52 0-1.04.2-1.43.59L10.3 9.45l-7.72 7.72c-.78.78-.78 2.05 0 2.83L4 21.41c.39.39.9.59 1.41.59.51 0 1.02-.2 1.41-.59l7.78-7.78 2.81-2.81c.8-.78.8-2.07 0-2.86zM5.41 20L4 18.59l7.72-7.72 1.47 1.35L5.41 20z\"/>\n",
              "  </svg>\n",
              "      </button>\n",
              "      \n",
              "  <style>\n",
              "    .colab-df-container {\n",
              "      display:flex;\n",
              "      flex-wrap:wrap;\n",
              "      gap: 12px;\n",
              "    }\n",
              "\n",
              "    .colab-df-convert {\n",
              "      background-color: #E8F0FE;\n",
              "      border: none;\n",
              "      border-radius: 50%;\n",
              "      cursor: pointer;\n",
              "      display: none;\n",
              "      fill: #1967D2;\n",
              "      height: 32px;\n",
              "      padding: 0 0 0 0;\n",
              "      width: 32px;\n",
              "    }\n",
              "\n",
              "    .colab-df-convert:hover {\n",
              "      background-color: #E2EBFA;\n",
              "      box-shadow: 0px 1px 2px rgba(60, 64, 67, 0.3), 0px 1px 3px 1px rgba(60, 64, 67, 0.15);\n",
              "      fill: #174EA6;\n",
              "    }\n",
              "\n",
              "    [theme=dark] .colab-df-convert {\n",
              "      background-color: #3B4455;\n",
              "      fill: #D2E3FC;\n",
              "    }\n",
              "\n",
              "    [theme=dark] .colab-df-convert:hover {\n",
              "      background-color: #434B5C;\n",
              "      box-shadow: 0px 1px 3px 1px rgba(0, 0, 0, 0.15);\n",
              "      filter: drop-shadow(0px 1px 2px rgba(0, 0, 0, 0.3));\n",
              "      fill: #FFFFFF;\n",
              "    }\n",
              "  </style>\n",
              "\n",
              "      <script>\n",
              "        const buttonEl =\n",
              "          document.querySelector('#df-8b91ae2e-8493-4288-9cf0-634598e858cb button.colab-df-convert');\n",
              "        buttonEl.style.display =\n",
              "          google.colab.kernel.accessAllowed ? 'block' : 'none';\n",
              "\n",
              "        async function convertToInteractive(key) {\n",
              "          const element = document.querySelector('#df-8b91ae2e-8493-4288-9cf0-634598e858cb');\n",
              "          const dataTable =\n",
              "            await google.colab.kernel.invokeFunction('convertToInteractive',\n",
              "                                                     [key], {});\n",
              "          if (!dataTable) return;\n",
              "\n",
              "          const docLinkHtml = 'Like what you see? Visit the ' +\n",
              "            '<a target=\"_blank\" href=https://colab.research.google.com/notebooks/data_table.ipynb>data table notebook</a>'\n",
              "            + ' to learn more about interactive tables.';\n",
              "          element.innerHTML = '';\n",
              "          dataTable['output_type'] = 'display_data';\n",
              "          await google.colab.output.renderOutput(dataTable, element);\n",
              "          const docLink = document.createElement('div');\n",
              "          docLink.innerHTML = docLinkHtml;\n",
              "          element.appendChild(docLink);\n",
              "        }\n",
              "      </script>\n",
              "    </div>\n",
              "  </div>\n",
              "  "
            ],
            "text/plain": [
              "      neighbourhood  mean_price\n",
              "27      Bull's Head   47.333333\n",
              "102     Hunts Point   50.500000\n",
              "196         Tremont   51.545455\n",
              "179       Soundview   53.466667\n",
              "141        New Dorp   57.000000\n",
              "24        Bronxdale   57.105263\n",
              "142  New Dorp Beach   57.400000\n",
              "88       Grant City   57.666667\n",
              "46          Concord   58.192308\n",
              "135      Mount Eden   58.500000"
            ]
          },
          "metadata": {},
          "execution_count": 26
        }
      ]
    },
    {
      "cell_type": "markdown",
      "source": [
        "Fort Wadsworth is the costliest neighbourhood with a mean_price of 800 whereas Bull's Head is the cheapest with a mean_price of 47."
      ],
      "metadata": {
        "id": "vtqakDG4N_5s"
      }
    },
    {
      "cell_type": "markdown",
      "source": [
        "* ***Now let's see mean pricese for each room_type we have..***"
      ],
      "metadata": {
        "id": "4ryYlk-VHhUl"
      }
    },
    {
      "cell_type": "code",
      "source": [
        "df.groupby(by = \"room_type\")[\"price\"].mean().reset_index(name = \"mean_price\").sort_values(by =\"mean_price\" , ascending = False)"
      ],
      "metadata": {
        "colab": {
          "base_uri": "https://localhost:8080/",
          "height": 143
        },
        "id": "JNcKQpWeGrwD",
        "outputId": "d1e238c1-8257-4573-e527-0c2cc13c2bda"
      },
      "execution_count": 27,
      "outputs": [
        {
          "output_type": "execute_result",
          "data": {
            "text/html": [
              "\n",
              "  <div id=\"df-618c6288-7205-46d0-a74a-ba12c6d6a229\">\n",
              "    <div class=\"colab-df-container\">\n",
              "      <div>\n",
              "<style scoped>\n",
              "    .dataframe tbody tr th:only-of-type {\n",
              "        vertical-align: middle;\n",
              "    }\n",
              "\n",
              "    .dataframe tbody tr th {\n",
              "        vertical-align: top;\n",
              "    }\n",
              "\n",
              "    .dataframe thead th {\n",
              "        text-align: right;\n",
              "    }\n",
              "</style>\n",
              "<table border=\"1\" class=\"dataframe\">\n",
              "  <thead>\n",
              "    <tr style=\"text-align: right;\">\n",
              "      <th></th>\n",
              "      <th>room_type</th>\n",
              "      <th>mean_price</th>\n",
              "    </tr>\n",
              "  </thead>\n",
              "  <tbody>\n",
              "    <tr>\n",
              "      <th>0</th>\n",
              "      <td>Entire home/apt</td>\n",
              "      <td>211.810918</td>\n",
              "    </tr>\n",
              "    <tr>\n",
              "      <th>1</th>\n",
              "      <td>Private room</td>\n",
              "      <td>89.809131</td>\n",
              "    </tr>\n",
              "    <tr>\n",
              "      <th>2</th>\n",
              "      <td>Shared room</td>\n",
              "      <td>70.248705</td>\n",
              "    </tr>\n",
              "  </tbody>\n",
              "</table>\n",
              "</div>\n",
              "      <button class=\"colab-df-convert\" onclick=\"convertToInteractive('df-618c6288-7205-46d0-a74a-ba12c6d6a229')\"\n",
              "              title=\"Convert this dataframe to an interactive table.\"\n",
              "              style=\"display:none;\">\n",
              "        \n",
              "  <svg xmlns=\"http://www.w3.org/2000/svg\" height=\"24px\"viewBox=\"0 0 24 24\"\n",
              "       width=\"24px\">\n",
              "    <path d=\"M0 0h24v24H0V0z\" fill=\"none\"/>\n",
              "    <path d=\"M18.56 5.44l.94 2.06.94-2.06 2.06-.94-2.06-.94-.94-2.06-.94 2.06-2.06.94zm-11 1L8.5 8.5l.94-2.06 2.06-.94-2.06-.94L8.5 2.5l-.94 2.06-2.06.94zm10 10l.94 2.06.94-2.06 2.06-.94-2.06-.94-.94-2.06-.94 2.06-2.06.94z\"/><path d=\"M17.41 7.96l-1.37-1.37c-.4-.4-.92-.59-1.43-.59-.52 0-1.04.2-1.43.59L10.3 9.45l-7.72 7.72c-.78.78-.78 2.05 0 2.83L4 21.41c.39.39.9.59 1.41.59.51 0 1.02-.2 1.41-.59l7.78-7.78 2.81-2.81c.8-.78.8-2.07 0-2.86zM5.41 20L4 18.59l7.72-7.72 1.47 1.35L5.41 20z\"/>\n",
              "  </svg>\n",
              "      </button>\n",
              "      \n",
              "  <style>\n",
              "    .colab-df-container {\n",
              "      display:flex;\n",
              "      flex-wrap:wrap;\n",
              "      gap: 12px;\n",
              "    }\n",
              "\n",
              "    .colab-df-convert {\n",
              "      background-color: #E8F0FE;\n",
              "      border: none;\n",
              "      border-radius: 50%;\n",
              "      cursor: pointer;\n",
              "      display: none;\n",
              "      fill: #1967D2;\n",
              "      height: 32px;\n",
              "      padding: 0 0 0 0;\n",
              "      width: 32px;\n",
              "    }\n",
              "\n",
              "    .colab-df-convert:hover {\n",
              "      background-color: #E2EBFA;\n",
              "      box-shadow: 0px 1px 2px rgba(60, 64, 67, 0.3), 0px 1px 3px 1px rgba(60, 64, 67, 0.15);\n",
              "      fill: #174EA6;\n",
              "    }\n",
              "\n",
              "    [theme=dark] .colab-df-convert {\n",
              "      background-color: #3B4455;\n",
              "      fill: #D2E3FC;\n",
              "    }\n",
              "\n",
              "    [theme=dark] .colab-df-convert:hover {\n",
              "      background-color: #434B5C;\n",
              "      box-shadow: 0px 1px 3px 1px rgba(0, 0, 0, 0.15);\n",
              "      filter: drop-shadow(0px 1px 2px rgba(0, 0, 0, 0.3));\n",
              "      fill: #FFFFFF;\n",
              "    }\n",
              "  </style>\n",
              "\n",
              "      <script>\n",
              "        const buttonEl =\n",
              "          document.querySelector('#df-618c6288-7205-46d0-a74a-ba12c6d6a229 button.colab-df-convert');\n",
              "        buttonEl.style.display =\n",
              "          google.colab.kernel.accessAllowed ? 'block' : 'none';\n",
              "\n",
              "        async function convertToInteractive(key) {\n",
              "          const element = document.querySelector('#df-618c6288-7205-46d0-a74a-ba12c6d6a229');\n",
              "          const dataTable =\n",
              "            await google.colab.kernel.invokeFunction('convertToInteractive',\n",
              "                                                     [key], {});\n",
              "          if (!dataTable) return;\n",
              "\n",
              "          const docLinkHtml = 'Like what you see? Visit the ' +\n",
              "            '<a target=\"_blank\" href=https://colab.research.google.com/notebooks/data_table.ipynb>data table notebook</a>'\n",
              "            + ' to learn more about interactive tables.';\n",
              "          element.innerHTML = '';\n",
              "          dataTable['output_type'] = 'display_data';\n",
              "          await google.colab.output.renderOutput(dataTable, element);\n",
              "          const docLink = document.createElement('div');\n",
              "          docLink.innerHTML = docLinkHtml;\n",
              "          element.appendChild(docLink);\n",
              "        }\n",
              "      </script>\n",
              "    </div>\n",
              "  </div>\n",
              "  "
            ],
            "text/plain": [
              "         room_type  mean_price\n",
              "0  Entire home/apt  211.810918\n",
              "1     Private room   89.809131\n",
              "2      Shared room   70.248705"
            ]
          },
          "metadata": {},
          "execution_count": 27
        }
      ]
    },
    {
      "cell_type": "markdown",
      "source": [
        "Entire home/apt is the costliest room_type with a mean_price of 211 whereas Shared room is the cheapest with a mean_price of 70."
      ],
      "metadata": {
        "id": "vT4RezWoOmds"
      }
    },
    {
      "cell_type": "markdown",
      "source": [
        "* ***Let's see if there is any coorelation between pricing and number_of_reviews or pricing and reviews_per_month***\n"
      ],
      "metadata": {
        "id": "sUgIA6q8YB5R"
      }
    },
    {
      "cell_type": "code",
      "source": [
        "### picking numerical columns except longitudes and latitudes\n",
        "\n",
        "columns = [\"price\"\t,\"minimum_nights\"\t,\"number_of_reviews\",\"reviews_per_month\"\t,\"calculated_host_listings_count\",\t\"availability_365\"]  \n",
        "\n",
        "corrmat = df[columns].corr()\n",
        "f, ax = plt.subplots(figsize=(12, 9))\n",
        "sns.heatmap(corrmat, vmax=.8, square=True);"
      ],
      "metadata": {
        "colab": {
          "base_uri": "https://localhost:8080/",
          "height": 682
        },
        "id": "N0_yP-bKsB2u",
        "outputId": "cadf6457-8c75-4447-a7bc-0f718588bf78"
      },
      "execution_count": 29,
      "outputs": [
        {
          "output_type": "display_data",
          "data": {
            "image/png": "[encoded data removed]",
            "text/plain": [
              "<Figure size 864x648 with 2 Axes>"
            ]
          },
          "metadata": {
            "needs_background": "light"
          }
        }
      ]
    },
    {
      "cell_type": "markdown",
      "source": [
        "Above Heat map suggest that the numerical columns of our dataset have negligibe coorelation between them mean they are almost independent of each other."
      ],
      "metadata": {
        "id": "kUuvCAq8fZMo"
      }
    },
    {
      "cell_type": "markdown",
      "source": [
        "* ***Lets see how price varies along with latitude and longitude***"
      ],
      "metadata": {
        "id": "ZwdkkuNVwz_N"
      }
    },
    {
      "cell_type": "code",
      "source": [
        "plt.figure(figsize = (7,7))\n",
        "colormap = matplotlib. colors. ListedColormap(colors)\n",
        "sns.scatterplot(x = df[\"longitude\"] , y = df[\"latitude\"] , hue = df[\"price\"] , cmap =colormap)\n",
        "plt.show()"
      ],
      "metadata": {
        "colab": {
          "base_uri": "https://localhost:8080/",
          "height": 442
        },
        "id": "yzu66ElAc1Zv",
        "outputId": "17d04fc6-6a66-475c-e477-cb3258a3ae4c"
      },
      "execution_count": null,
      "outputs": [
        {
          "output_type": "display_data",
          "data": {
            "image/png": "[encoded data removed]",
            "text/plain": [
              "<Figure size 504x504 with 1 Axes>"
            ]
          },
          "metadata": {
            "needs_background": "light"
          }
        }
      ]
    },
    {
      "cell_type": "markdown",
      "source": [
        "We have very few dark points in this plot these could be outliers"
      ],
      "metadata": {
        "id": "UWE5U0lxymqb"
      }
    },
    {
      "cell_type": "markdown",
      "source": [
        "Now we are done with analysing. We are not analysing columns like name , minimum_nights, number_of_reviews,last_review,\n",
        "       reviews_per_month, calculated_host_listings_count,\n",
        "       availability_365 because they are not seemingly important in our case. "
      ],
      "metadata": {
        "id": "OHdGZR4L0EqG"
      }
    },
    {
      "cell_type": "markdown",
      "source": [
        "# NOW LET'S DEAL WITH MISSING VALUES"
      ],
      "metadata": {
        "id": "5f8fuoxL4BqQ"
      }
    },
    {
      "cell_type": "markdown",
      "source": [
        "*** Let's see how many null values each column have in nour dataset***"
      ],
      "metadata": {
        "id": "HvqvhojjStGw"
      }
    },
    {
      "cell_type": "code",
      "source": [
        "df.isnull().sum()      ### number of null values per column"
      ],
      "metadata": {
        "colab": {
          "base_uri": "https://localhost:8080/"
        },
        "id": "JHEbA36oMggG",
        "outputId": "103df0bd-7745-4acd-8157-9f3a8448fee1"
      },
      "execution_count": null,
      "outputs": [
        {
          "output_type": "execute_result",
          "data": {
            "text/plain": [
              "id                                    0\n",
              "name                                 16\n",
              "host_id                               0\n",
              "host_name                            21\n",
              "neighbourhood_group                   0\n",
              "neighbourhood                         0\n",
              "latitude                              0\n",
              "longitude                             0\n",
              "room_type                             0\n",
              "price                                 0\n",
              "minimum_nights                        0\n",
              "number_of_reviews                     0\n",
              "last_review                       10051\n",
              "reviews_per_month                 10051\n",
              "calculated_host_listings_count        0\n",
              "availability_365                      0\n",
              "dtype: int64"
            ]
          },
          "metadata": {},
          "execution_count": 52
        }
      ]
    },
    {
      "cell_type": "markdown",
      "source": [
        "We can see that name,host_name,last_review , reviews_per_month are four columns that contain null values.There is a say that you should drop a column if has more than 15% of null values. reviews_per_month and last_review contains same number of null values.We are going to find percentage of null values if it exceeds 15% we will drop both columns"
      ],
      "metadata": {
        "id": "DB_VSjWlNPWO"
      }
    },
    {
      "cell_type": "code",
      "source": [
        "null_per = (df[\"last_review\"].isnull().sum()*100)/df[\"last_review\"].isnull().count()      ### calculating null percentage\n",
        "print(\"Both contains {}% null values\".format(null_per))"
      ],
      "metadata": {
        "colab": {
          "base_uri": "https://localhost:8080/"
        },
        "id": "ZjKKaJD-Ov90",
        "outputId": "f7129caa-2c4e-4909-c990-ea6ce7a87bb1"
      },
      "execution_count": null,
      "outputs": [
        {
          "output_type": "stream",
          "name": "stdout",
          "text": [
            "Both contains 20.55833929849678% null values\n"
          ]
        }
      ]
    },
    {
      "cell_type": "markdown",
      "source": [
        " reviews_per_month and last_review contains 20.55 percent of null values.We should drop them but lets see there coorelation in dataframe for one last time before dropping"
      ],
      "metadata": {
        "id": "xEMdNOE1Tmr3"
      }
    },
    {
      "cell_type": "code",
      "source": [
        "df.corr(method = 'pearson')"
      ],
      "metadata": {
        "colab": {
          "base_uri": "https://localhost:8080/",
          "height": 362
        },
        "id": "wjUUJ959PMZp",
        "outputId": "8d38db97-d50a-4dc0-f993-511e88310d52"
      },
      "execution_count": null,
      "outputs": [
        {
          "output_type": "execute_result",
          "data": {
            "text/html": [
              "\n",
              "  <div id=\"df-c115e1f6-1908-4946-9660-55bf3e5a91c2\">\n",
              "    <div class=\"colab-df-container\">\n",
              "      <div>\n",
              "<style scoped>\n",
              "    .dataframe tbody tr th:only-of-type {\n",
              "        vertical-align: middle;\n",
              "    }\n",
              "\n",
              "    .dataframe tbody tr th {\n",
              "        vertical-align: top;\n",
              "    }\n",
              "\n",
              "    .dataframe thead th {\n",
              "        text-align: right;\n",
              "    }\n",
              "</style>\n",
              "<table border=\"1\" class=\"dataframe\">\n",
              "  <thead>\n",
              "    <tr style=\"text-align: right;\">\n",
              "      <th></th>\n",
              "      <th>id</th>\n",
              "      <th>host_id</th>\n",
              "      <th>latitude</th>\n",
              "      <th>longitude</th>\n",
              "      <th>price</th>\n",
              "      <th>minimum_nights</th>\n",
              "      <th>number_of_reviews</th>\n",
              "      <th>reviews_per_month</th>\n",
              "      <th>calculated_host_listings_count</th>\n",
              "      <th>availability_365</th>\n",
              "    </tr>\n",
              "  </thead>\n",
              "  <tbody>\n",
              "    <tr>\n",
              "      <th>id</th>\n",
              "      <td>1.000000</td>\n",
              "      <td>0.588316</td>\n",
              "      <td>-0.003115</td>\n",
              "      <td>0.090895</td>\n",
              "      <td>0.010639</td>\n",
              "      <td>-0.013229</td>\n",
              "      <td>-0.319800</td>\n",
              "      <td>0.291862</td>\n",
              "      <td>0.133275</td>\n",
              "      <td>0.085468</td>\n",
              "    </tr>\n",
              "    <tr>\n",
              "      <th>host_id</th>\n",
              "      <td>0.588316</td>\n",
              "      <td>1.000000</td>\n",
              "      <td>0.020199</td>\n",
              "      <td>0.127022</td>\n",
              "      <td>0.015294</td>\n",
              "      <td>-0.017391</td>\n",
              "      <td>-0.140181</td>\n",
              "      <td>0.296395</td>\n",
              "      <td>0.154949</td>\n",
              "      <td>0.203434</td>\n",
              "    </tr>\n",
              "    <tr>\n",
              "      <th>latitude</th>\n",
              "      <td>-0.003115</td>\n",
              "      <td>0.020199</td>\n",
              "      <td>1.000000</td>\n",
              "      <td>0.084830</td>\n",
              "      <td>0.033899</td>\n",
              "      <td>0.024893</td>\n",
              "      <td>-0.015357</td>\n",
              "      <td>-0.010117</td>\n",
              "      <td>0.019518</td>\n",
              "      <td>-0.010942</td>\n",
              "    </tr>\n",
              "    <tr>\n",
              "      <th>longitude</th>\n",
              "      <td>0.090895</td>\n",
              "      <td>0.127022</td>\n",
              "      <td>0.084830</td>\n",
              "      <td>1.000000</td>\n",
              "      <td>-0.149954</td>\n",
              "      <td>-0.062772</td>\n",
              "      <td>0.059015</td>\n",
              "      <td>0.145888</td>\n",
              "      <td>-0.114715</td>\n",
              "      <td>0.082669</td>\n",
              "    </tr>\n",
              "    <tr>\n",
              "      <th>price</th>\n",
              "      <td>0.010639</td>\n",
              "      <td>0.015294</td>\n",
              "      <td>0.033899</td>\n",
              "      <td>-0.149954</td>\n",
              "      <td>1.000000</td>\n",
              "      <td>0.042805</td>\n",
              "      <td>-0.047926</td>\n",
              "      <td>-0.030575</td>\n",
              "      <td>0.057462</td>\n",
              "      <td>0.081847</td>\n",
              "    </tr>\n",
              "    <tr>\n",
              "      <th>minimum_nights</th>\n",
              "      <td>-0.013229</td>\n",
              "      <td>-0.017391</td>\n",
              "      <td>0.024893</td>\n",
              "      <td>-0.062772</td>\n",
              "      <td>0.042805</td>\n",
              "      <td>1.000000</td>\n",
              "      <td>-0.080080</td>\n",
              "      <td>-0.121644</td>\n",
              "      <td>0.127962</td>\n",
              "      <td>0.144275</td>\n",
              "    </tr>\n",
              "    <tr>\n",
              "      <th>number_of_reviews</th>\n",
              "      <td>-0.319800</td>\n",
              "      <td>-0.140181</td>\n",
              "      <td>-0.015357</td>\n",
              "      <td>0.059015</td>\n",
              "      <td>-0.047926</td>\n",
              "      <td>-0.080080</td>\n",
              "      <td>1.000000</td>\n",
              "      <td>0.549763</td>\n",
              "      <td>-0.072385</td>\n",
              "      <td>0.171975</td>\n",
              "    </tr>\n",
              "    <tr>\n",
              "      <th>reviews_per_month</th>\n",
              "      <td>0.291862</td>\n",
              "      <td>0.296395</td>\n",
              "      <td>-0.010117</td>\n",
              "      <td>0.145888</td>\n",
              "      <td>-0.030575</td>\n",
              "      <td>-0.121644</td>\n",
              "      <td>0.549763</td>\n",
              "      <td>1.000000</td>\n",
              "      <td>-0.009431</td>\n",
              "      <td>0.185730</td>\n",
              "    </tr>\n",
              "    <tr>\n",
              "      <th>calculated_host_listings_count</th>\n",
              "      <td>0.133275</td>\n",
              "      <td>0.154949</td>\n",
              "      <td>0.019518</td>\n",
              "      <td>-0.114715</td>\n",
              "      <td>0.057462</td>\n",
              "      <td>0.127962</td>\n",
              "      <td>-0.072385</td>\n",
              "      <td>-0.009431</td>\n",
              "      <td>1.000000</td>\n",
              "      <td>0.225712</td>\n",
              "    </tr>\n",
              "    <tr>\n",
              "      <th>availability_365</th>\n",
              "      <td>0.085468</td>\n",
              "      <td>0.203434</td>\n",
              "      <td>-0.010942</td>\n",
              "      <td>0.082669</td>\n",
              "      <td>0.081847</td>\n",
              "      <td>0.144275</td>\n",
              "      <td>0.171975</td>\n",
              "      <td>0.185730</td>\n",
              "      <td>0.225712</td>\n",
              "      <td>1.000000</td>\n",
              "    </tr>\n",
              "  </tbody>\n",
              "</table>\n",
              "</div>\n",
              "      <button class=\"colab-df-convert\" onclick=\"convertToInteractive('df-c115e1f6-1908-4946-9660-55bf3e5a91c2')\"\n",
              "              title=\"Convert this dataframe to an interactive table.\"\n",
              "              style=\"display:none;\">\n",
              "        \n",
              "  <svg xmlns=\"http://www.w3.org/2000/svg\" height=\"24px\"viewBox=\"0 0 24 24\"\n",
              "       width=\"24px\">\n",
              "    <path d=\"M0 0h24v24H0V0z\" fill=\"none\"/>\n",
              "    <path d=\"M18.56 5.44l.94 2.06.94-2.06 2.06-.94-2.06-.94-.94-2.06-.94 2.06-2.06.94zm-11 1L8.5 8.5l.94-2.06 2.06-.94-2.06-.94L8.5 2.5l-.94 2.06-2.06.94zm10 10l.94 2.06.94-2.06 2.06-.94-2.06-.94-.94-2.06-.94 2.06-2.06.94z\"/><path d=\"M17.41 7.96l-1.37-1.37c-.4-.4-.92-.59-1.43-.59-.52 0-1.04.2-1.43.59L10.3 9.45l-7.72 7.72c-.78.78-.78 2.05 0 2.83L4 21.41c.39.39.9.59 1.41.59.51 0 1.02-.2 1.41-.59l7.78-7.78 2.81-2.81c.8-.78.8-2.07 0-2.86zM5.41 20L4 18.59l7.72-7.72 1.47 1.35L5.41 20z\"/>\n",
              "  </svg>\n",
              "      </button>\n",
              "      \n",
              "  <style>\n",
              "    .colab-df-container {\n",
              "      display:flex;\n",
              "      flex-wrap:wrap;\n",
              "      gap: 12px;\n",
              "    }\n",
              "\n",
              "    .colab-df-convert {\n",
              "      background-color: #E8F0FE;\n",
              "      border: none;\n",
              "      border-radius: 50%;\n",
              "      cursor: pointer;\n",
              "      display: none;\n",
              "      fill: #1967D2;\n",
              "      height: 32px;\n",
              "      padding: 0 0 0 0;\n",
              "      width: 32px;\n",
              "    }\n",
              "\n",
              "    .colab-df-convert:hover {\n",
              "      background-color: #E2EBFA;\n",
              "      box-shadow: 0px 1px 2px rgba(60, 64, 67, 0.3), 0px 1px 3px 1px rgba(60, 64, 67, 0.15);\n",
              "      fill: #174EA6;\n",
              "    }\n",
              "\n",
              "    [theme=dark] .colab-df-convert {\n",
              "      background-color: #3B4455;\n",
              "      fill: #D2E3FC;\n",
              "    }\n",
              "\n",
              "    [theme=dark] .colab-df-convert:hover {\n",
              "      background-color: #434B5C;\n",
              "      box-shadow: 0px 1px 3px 1px rgba(0, 0, 0, 0.15);\n",
              "      filter: drop-shadow(0px 1px 2px rgba(0, 0, 0, 0.3));\n",
              "      fill: #FFFFFF;\n",
              "    }\n",
              "  </style>\n",
              "\n",
              "      <script>\n",
              "        const buttonEl =\n",
              "          document.querySelector('#df-c115e1f6-1908-4946-9660-55bf3e5a91c2 button.colab-df-convert');\n",
              "        buttonEl.style.display =\n",
              "          google.colab.kernel.accessAllowed ? 'block' : 'none';\n",
              "\n",
              "        async function convertToInteractive(key) {\n",
              "          const element = document.querySelector('#df-c115e1f6-1908-4946-9660-55bf3e5a91c2');\n",
              "          const dataTable =\n",
              "            await google.colab.kernel.invokeFunction('convertToInteractive',\n",
              "                                                     [key], {});\n",
              "          if (!dataTable) return;\n",
              "\n",
              "          const docLinkHtml = 'Like what you see? Visit the ' +\n",
              "            '<a target=\"_blank\" href=https://colab.research.google.com/notebooks/data_table.ipynb>data table notebook</a>'\n",
              "            + ' to learn more about interactive tables.';\n",
              "          element.innerHTML = '';\n",
              "          dataTable['output_type'] = 'display_data';\n",
              "          await google.colab.output.renderOutput(dataTable, element);\n",
              "          const docLink = document.createElement('div');\n",
              "          docLink.innerHTML = docLinkHtml;\n",
              "          element.appendChild(docLink);\n",
              "        }\n",
              "      </script>\n",
              "    </div>\n",
              "  </div>\n",
              "  "
            ],
            "text/plain": [
              "                                      id  ...  availability_365\n",
              "id                              1.000000  ...          0.085468\n",
              "host_id                         0.588316  ...          0.203434\n",
              "latitude                       -0.003115  ...         -0.010942\n",
              "longitude                       0.090895  ...          0.082669\n",
              "price                           0.010639  ...          0.081847\n",
              "minimum_nights                 -0.013229  ...          0.144275\n",
              "number_of_reviews              -0.319800  ...          0.171975\n",
              "reviews_per_month               0.291862  ...          0.185730\n",
              "calculated_host_listings_count  0.133275  ...          0.225712\n",
              "availability_365                0.085468  ...          1.000000\n",
              "\n",
              "[10 rows x 10 columns]"
            ]
          },
          "metadata": {},
          "execution_count": 53
        }
      ]
    },
    {
      "cell_type": "markdown",
      "source": [
        "We can't see any strong correlation so we are going to drop both columns.\n"
      ],
      "metadata": {
        "id": "gB2kocLcPLAE"
      }
    },
    {
      "cell_type": "code",
      "source": [
        "df.drop(columns = [\"last_review\" , \"reviews_per_month\"] , inplace = True)        ### dropping columns last_review  and reviews_per_month"
      ],
      "metadata": {
        "id": "sBAAhIwzPfv0"
      },
      "execution_count": null,
      "outputs": []
    },
    {
      "cell_type": "markdown",
      "source": [
        "Now come to host_name and name columns.They contain 21 and 16 null values.These numbers are not large if we delete these rows we will not loose much any data.So are going to drop particular rows for which they contain null values."
      ],
      "metadata": {
        "id": "Blh2yKvdPrjg"
      }
    },
    {
      "cell_type": "code",
      "source": [
        "df_1 = df.drop(df.loc[df[\"host_name\"].isnull()].index)    ### deleting particular rows\n",
        "df_1 = df_1.drop(df_1.loc[df[\"name\"].isnull()].index)\n",
        "\n",
        "print(df_1.isnull().any())         ### checking one last time"
      ],
      "metadata": {
        "colab": {
          "base_uri": "https://localhost:8080/"
        },
        "id": "Gw58V01iQX5Z",
        "outputId": "211216f3-8386-4b29-b104-339044cfc2f2"
      },
      "execution_count": null,
      "outputs": [
        {
          "output_type": "stream",
          "name": "stdout",
          "text": [
            "id                                False\n",
            "name                              False\n",
            "host_id                           False\n",
            "host_name                         False\n",
            "neighbourhood_group               False\n",
            "neighbourhood                     False\n",
            "latitude                          False\n",
            "longitude                         False\n",
            "room_type                         False\n",
            "price                             False\n",
            "minimum_nights                    False\n",
            "number_of_reviews                 False\n",
            "calculated_host_listings_count    False\n",
            "availability_365                  False\n",
            "dtype: bool\n"
          ]
        }
      ]
    },
    {
      "cell_type": "markdown",
      "source": [
        " # NOW LETS REMOVE OUTLIERS"
      ],
      "metadata": {
        "id": "O5rCdcyu4Ntt"
      }
    },
    {
      "cell_type": "markdown",
      "source": [
        "There are three columns for which we are going to check for any outlier\n",
        "price,longitude , latitude. Before going for outliers lets first standardise our columns."
      ],
      "metadata": {
        "id": "SRwP_fEpVf4o"
      }
    },
    {
      "cell_type": "code",
      "source": [
        "df_1[\"price\"] = ( df_1[\"price\"] - df_1[\"price\"].mean() )/( df_1[\"price\"].max() - df_1[\"price\"].min() )       ## standerdisation = (x - x.mean)/(x.max() - x.min())"
      ],
      "metadata": {
        "id": "0SvOZ9mZbzvx"
      },
      "execution_count": null,
      "outputs": []
    },
    {
      "cell_type": "code",
      "source": [
        "plt.figure(figsize= (10,8))\n",
        "sns.histplot( x = df_1[\"price\"])  ### plotting histplot\n"
      ],
      "metadata": {
        "colab": {
          "base_uri": "https://localhost:8080/",
          "height": 513
        },
        "id": "FOTbjQUVWu8k",
        "outputId": "a70f207a-57ec-49bc-a461-13bc9c0dba33"
      },
      "execution_count": null,
      "outputs": [
        {
          "output_type": "execute_result",
          "data": {
            "text/plain": [
              "<matplotlib.axes._subplots.AxesSubplot at 0x7f7234ad3890>"
            ]
          },
          "metadata": {},
          "execution_count": 59
        },
        {
          "output_type": "display_data",
          "data": {
            "image/png": "[encoded data removed]",
            "text/plain": [
              "<Figure size 720x576 with 1 Axes>"
            ]
          },
          "metadata": {
            "needs_background": "light"
          }
        }
      ]
    },
    {
      "cell_type": "markdown",
      "source": [
        "We can see that out plot is positively skewed.Lets see boxplot"
      ],
      "metadata": {
        "id": "A9ySlWjCbI6P"
      }
    },
    {
      "cell_type": "code",
      "source": [
        "sns.boxplot( x = df_1[\"price\"])      ## boxplot"
      ],
      "metadata": {
        "colab": {
          "base_uri": "https://localhost:8080/",
          "height": 296
        },
        "id": "lUBj9Md8rOQ_",
        "outputId": "38284070-5539-4494-aeed-fae6bb21bb63"
      },
      "execution_count": null,
      "outputs": [
        {
          "output_type": "execute_result",
          "data": {
            "text/plain": [
              "<matplotlib.axes._subplots.AxesSubplot at 0x7f7233e62410>"
            ]
          },
          "metadata": {},
          "execution_count": 60
        },
        {
          "output_type": "display_data",
          "data": {
            "image/png": "[encoded data removed]",
            "text/plain": [
              "<Figure size 432x288 with 1 Axes>"
            ]
          },
          "metadata": {
            "needs_background": "light"
          }
        }
      ]
    },
    {
      "cell_type": "markdown",
      "source": [
        "From the plot we can see that on the extreme right of out plot there are very few points.We will remove these points."
      ],
      "metadata": {
        "id": "KIXzAl97h_dY"
      }
    },
    {
      "cell_type": "markdown",
      "source": [
        "***Let's see price distribution for each neighbourhood_type*** "
      ],
      "metadata": {
        "id": "-XRMxwhVjwue"
      }
    },
    {
      "cell_type": "code",
      "source": [
        "plt.figure(figsize = (8,8))\n",
        "sns.boxplot( data = df_1 , x = \"neighbourhood_group\" , y = \"price\")   \n",
        "plt.title(\"Distribution of Price for each neighbourhood_group\")\n",
        "\n",
        "plt.show()"
      ],
      "metadata": {
        "id": "KpmYmQo7XLyr",
        "colab": {
          "base_uri": "https://localhost:8080/",
          "height": 513
        },
        "outputId": "a72de959-d160-478c-cae2-d2fae26a6185"
      },
      "execution_count": null,
      "outputs": [
        {
          "output_type": "display_data",
          "data": {
            "image/png": "[encoded data removed]",
            "text/plain": [
              "<Figure size 576x576 with 1 Axes>"
            ]
          },
          "metadata": {
            "needs_background": "light"
          }
        }
      ]
    },
    {
      "cell_type": "markdown",
      "source": [
        "***Let's remove outliers using IQR(Inter Quantile Range)***"
      ],
      "metadata": {
        "id": "70qaY26f7w2W"
      }
    },
    {
      "cell_type": "code",
      "source": [
        "unique_neighbourhood_group = df_1['neighbourhood_group'].unique()"
      ],
      "metadata": {
        "id": "qi-H9bcvjcxz"
      },
      "execution_count": null,
      "outputs": []
    },
    {
      "cell_type": "code",
      "source": [
        "final_df = pd.DataFrame([],columns = df_1.columns)   # creating a new dataset"
      ],
      "metadata": {
        "id": "-y5tqf7I6Omt"
      },
      "execution_count": null,
      "outputs": []
    },
    {
      "cell_type": "code",
      "source": [
        "for n_g in unique_neighbourhood_group:                   ## iterating through neighbourhood_groups\n",
        "  new_df = df_1[df_1['neighbourhood_group'] == n_g]\n",
        "  Q1 = new_df['price'].quantile(0.25)                     ## first quantile\n",
        "  Q3 = new_df['price'].quantile(0.75)                     ## third quantile\n",
        "  IQR = Q3 - Q1\n",
        "  new_df2 = new_df[(new_df['price'] >= Q1 - 1.5 * IQR ) & (new_df['price'] <= Q3 + 1.5 * IQR)]    ## filtering dataset\n",
        "  objects = [final_df , new_df2]\n",
        "  final_df = pd.concat(objects , ignore_index = True)                   #concatinating datasets"
      ],
      "metadata": {
        "id": "s22u0SwEk9Zk"
      },
      "execution_count": null,
      "outputs": []
    },
    {
      "cell_type": "markdown",
      "source": [
        "After remove outliers let's visualise our final_df"
      ],
      "metadata": {
        "id": "bqz-SHct8faF"
      }
    },
    {
      "cell_type": "code",
      "source": [
        "plt.figure(figsize = (8,8))\n",
        "sns.boxplot( data = final_df , x = \"neighbourhood_group\" , y = \"price\")   \n",
        "plt.title(\"Distribution of Price for each neighbourhood_group\")\n",
        "\n",
        "plt.show()"
      ],
      "metadata": {
        "colab": {
          "base_uri": "https://localhost:8080/",
          "height": 513
        },
        "id": "yRulMbgRoEHM",
        "outputId": "1d40454d-4f26-4ca9-f8b9-4553c9fa6a89"
      },
      "execution_count": null,
      "outputs": [
        {
          "output_type": "display_data",
          "data": {
            "image/png": "[encoded data removed]",
            "text/plain": [
              "<Figure size 576x576 with 1 Axes>"
            ]
          },
          "metadata": {
            "needs_background": "light"
          }
        }
      ]
    },
    {
      "cell_type": "markdown",
      "source": [
        "Now it's looking nice.Let's now have a quick look at scatterplot of longitude and latitude columns."
      ],
      "metadata": {
        "id": "_X_ngN5h8uTQ"
      }
    },
    {
      "cell_type": "code",
      "source": [
        "plt.figure(figsize = (7,7))\n",
        "sns.scatterplot(x = final_df[\"longitude\"] , y = final_df[\"latitude\"])\n",
        "plt.show()"
      ],
      "metadata": {
        "colab": {
          "base_uri": "https://localhost:8080/",
          "height": 442
        },
        "id": "wKKsmEqY2pic",
        "outputId": "a9b90e7a-6afc-4c08-ad4d-4e30e7e25fab"
      },
      "execution_count": null,
      "outputs": [
        {
          "output_type": "display_data",
          "data": {
            "image/png": "[encoded data removed]",
            "text/plain": [
              "<Figure size 504x504 with 1 Axes>"
            ]
          },
          "metadata": {
            "needs_background": "light"
          }
        }
      ]
    },
    {
      "cell_type": "markdown",
      "source": [
        "In this plot we can see that we don't have any extreme points.So will not remove any data points."
      ],
      "metadata": {
        "id": "3lHMHKQw9jDc"
      }
    },
    {
      "cell_type": "markdown",
      "source": [
        "We are done now , let's move to the final conclusions."
      ],
      "metadata": {
        "id": "FGb4M2ihQhwp"
      }
    },
    {
      "cell_type": "markdown",
      "source": [
        "***CONCLUSION***\n",
        "* We have five neighbourhood_groups Brooklyn,Manhattan,Queens,Staten Island and Bronx in which Manhattan is most visited and Staten Island is least visited.\n",
        "* We have 221 unique neighbourhoods in which Williamsberg,Bedford-Stuyvesant,Harlem are the top visited neighbourhood and Rossville,Richmondtown,Fort-Wadsworth are least visited neighbourhood.\n",
        "* We have three room types Entire_home/apt, shared room and Private room with constitution of 52% ,2% and 46% respectively.\n",
        "* Our min ,mean and max price of whole dataset is 0, 152 and 10000 respectively.\n",
        "* Manhattan is the most costliest neighbourhood_group with a mean price of 220 and Bronx is the cheapest neighbourhood with mean price of 99.\n",
        "* Fort Wadsworth is the costliest neighbourhood with a mean price of 800 and Bull's Head is cheapest with a mean price of 47.\n",
        "* Entire home/apt room type are costly with a mean price of 211 and shared room are cheapest with a mean price of 70.\n",
        "* From heat map we came to a conclusion that this dataset does not shows any correlation.Price is not affected by any numerical valued coulmn.Price is mostly affected by neighbourhood_group if a host is situaited in Manhattan ,Brooklyn or Queens its price will be high."
      ],
      "metadata": {
        "id": "GgeNu3Z9_Kyd"
      }
    }
  ],
  "metadata": {
    "colab": {
      "name": "Airbnb Bookings Analysis - Capstone Project.ipynb",
      "provenance": [],
      "collapsed_sections": [],
      "include_colab_link": true
    },
    "kernelspec": {
      "display_name": "Python 3",
      "language": "python",
      "name": "python3"
    },
    "language_info": {
      "codemirror_mode": {
        "name": "ipython",
        "version": 3
      },
      "file_extension": ".py",
      "mimetype": "text/x-python",
      "name": "python",
      "nbconvert_exporter": "python",
      "pygments_lexer": "ipython3",
      "version": "3.8.5"
    }
  },
  "nbformat": 4,
  "nbformat_minor": 0
}